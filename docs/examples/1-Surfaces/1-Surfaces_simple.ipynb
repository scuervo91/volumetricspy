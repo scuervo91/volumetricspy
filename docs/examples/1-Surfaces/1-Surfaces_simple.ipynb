{
    "cells": [
        {
            "cell_type": "code",
            "execution_count": 1,
            "metadata": {},
            "outputs": [],
            "source": [
                "# Surfaces"
            ]
        },
        {
            "cell_type": "code",
            "execution_count": 2,
            "metadata": {},
            "outputs": [],
            "source": [
                "import numpy as np\n",
                "import pandas as pd\n",
                "from volumetricspy import Surface\n",
                "from volumetricspy.stats import Grid\n",
                "import matplotlib.pyplot as plt\n",
                "import seaborn as sns\n",
                "import pyvista as pv"
            ]
        },
        {
            "cell_type": "code",
            "execution_count": 9,
            "metadata": {},
            "outputs": [
                {
                    "data": {
                        "text/plain": [
                            "(4, 3)"
                        ]
                    },
                    "execution_count": 9,
                    "metadata": {},
                    "output_type": "execute_result"
                }
            ],
            "source": [
                "x = np.linspace(0, 300, 4)\n",
                "y = np.linspace(0, 400, 3)\n",
                "xx,yy = np.meshgrid(x,y,indexing='ij')\n",
                "z = np.zeros_like(xx) - 1000\n",
                "z.shape\n",
                "\n"
            ]
        },
        {
            "cell_type": "code",
            "execution_count": 10,
            "metadata": {},
            "outputs": [
                {
                    "data": {
                        "text/plain": [
                            "array([[  0., 200., 400.],\n",
                            "       [  0., 200., 400.],\n",
                            "       [  0., 200., 400.],\n",
                            "       [  0., 200., 400.]])"
                        ]
                    },
                    "execution_count": 10,
                    "metadata": {},
                    "output_type": "execute_result"
                }
            ],
            "source": [
                "yy"
            ]
        },
        {
            "cell_type": "code",
            "execution_count": 3,
            "metadata": {},
            "outputs": [
                {
                    "data": {
                        "text/plain": [
                            "<matplotlib.contour.QuadContourSet at 0x7fbe82cb7640>"
                        ]
                    },
                    "execution_count": 3,
                    "metadata": {},
                    "output_type": "execute_result"
                },
                {
                    "data": {
                        "image/png": "[encoded data removed]",
                        "text/plain": [
                            "<Figure size 432x288 with 1 Axes>"
                        ]
                    },
                    "metadata": {
                        "needs_background": "light"
                    },
                    "output_type": "display_data"
                }
            ],
            "source": [
                "\n",
                "s1 = Surface(\n",
                "    x = x,\n",
                "    y = y,\n",
                "    z = z,\n",
                "    shape=(4,3),\n",
                "    name='surf'\n",
                ")\n",
                "s1.contourf()"
            ]
        },
        {
            "cell_type": "code",
            "execution_count": 5,
            "metadata": {},
            "outputs": [
                {
                    "data": {
                        "text/plain": [
                            "volumetricspy.stats.grid.Grid"
                        ]
                    },
                    "execution_count": 5,
                    "metadata": {},
                    "output_type": "execute_result"
                }
            ],
            "source": [
                "g=s1.make_grid(dz=-100,nz=5)\n",
                "type(g)"
            ]
        },
        {
            "cell_type": "code",
            "execution_count": 6,
            "metadata": {},
            "outputs": [
                {
                    "data": {
                        "application/vnd.jupyter.widget-view+json": {
                            "model_id": "4bfea7bab262423ca2b45df3bbbf07af",
                            "version_major": 2,
                            "version_minor": 0
                        },
                        "text/plain": [
                            "ViewInteractiveWidget(height=768, layout=Layout(height='auto', width='100%'), width=1024)"
                        ]
                    },
                    "metadata": {},
                    "output_type": "display_data"
                }
            ],
            "source": [
                "g.unstructured_grid_vtk().plot(show_edges=True)"
            ]
        }
    ],
    "metadata": {
        "interpreter": {
            "hash": "58e73062c9e4d4f81f9ef1a34dcdc791e94cc9c601a992d43a5cdf3e9e023952"
        },
        "kernelspec": {
            "display_name": "Python 3.8.11 64-bit ('volumetricspy': conda)",
            "name": "python3"
        },
        "language_info": {
            "codemirror_mode": {
                "name": "ipython",
                "version": 3
            },
            "file_extension": ".py",
            "mimetype": "text/x-python",
            "name": "python",
            "nbconvert_exporter": "python",
            "pygments_lexer": "ipython3",
            "version": "3.8.12"
        },
        "orig_nbformat": 4
    },
    "nbformat": 4,
    "nbformat_minor": 2
}
