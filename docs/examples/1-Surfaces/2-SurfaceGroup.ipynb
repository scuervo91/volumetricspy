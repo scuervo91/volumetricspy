{
    "cells": [
        {
            "cell_type": "code",
            "execution_count": 1,
            "metadata": {},
            "outputs": [],
            "source": [
                "# Surface Group"
            ]
        },
        {
            "cell_type": "code",
            "execution_count": 2,
            "metadata": {},
            "outputs": [],
            "source": [
                "import numpy as np\n",
                "import pandas as pd\n",
                "from volumetricspy import Surface, SurfaceGroup\n",
                "import matplotlib.pyplot as plt\n",
                "import seaborn as sns"
            ]
        },
        {
            "cell_type": "code",
            "execution_count": 4,
            "metadata": {},
            "outputs": [
                {
                    "name": "stderr",
                    "output_type": "stream",
                    "text": [
                        "/opt/anaconda3/envs/volumetricspy/lib/python3.8/site-packages/zmapio/zmap.py:189: UserWarning: to_dataframe will be renamed to to_pandas in 0.7.0\n",
                        "  warnings.warn(\"to_dataframe will be renamed to to_pandas in 0.7.0\")\n"
                    ]
                }
            ],
            "source": [
                "s1 = Surface.from_z_map('anticline','anticline',crs=3117)\n",
                "\n",
                "sg1 = SurfaceGroup(name='Test')\n",
                "\n",
                "sg1.add_surface(s1)"
            ]
        },
        {
            "cell_type": "code",
            "execution_count": 5,
            "metadata": {},
            "outputs": [
                {
                    "data": {
                        "text/plain": [
                            "<matplotlib.contour.QuadContourSet at 0x7f800c2d6730>"
                        ]
                    },
                    "execution_count": 5,
                    "metadata": {},
                    "output_type": "execute_result"
                },
                {
                    "data": {
                        "image/png": "[encoded data removed]",
                        "text/plain": [
                            "<Figure size 432x288 with 1 Axes>"
                        ]
                    },
                    "metadata": {
                        "needs_background": "light"
                    },
                    "output_type": "display_data"
                }
            ],
            "source": [
                "sg1.surfaces['anticline'].contourf()"
            ]
        },
        {
            "cell_type": "code",
            "execution_count": 6,
            "metadata": {},
            "outputs": [],
            "source": [
                "sg1.create_parallel_surfaces('anticline',[-180,-250,-320])"
            ]
        },
        {
            "cell_type": "code",
            "execution_count": 7,
            "metadata": {},
            "outputs": [
                {
                    "data": {
                        "text/plain": [
                            "dict_keys(['anticline', 'anticline_-180.0', 'anticline_-250.0', 'anticline_-320.0'])"
                        ]
                    },
                    "execution_count": 7,
                    "metadata": {},
                    "output_type": "execute_result"
                }
            ],
            "source": [
                "sg1.surfaces.keys()"
            ]
        },
        {
            "cell_type": "code",
            "execution_count": 8,
            "metadata": {},
            "outputs": [
                {
                    "data": {
                        "text/plain": [
                            "<matplotlib.contour.QuadContourSet at 0x7f800c3f06a0>"
                        ]
                    },
                    "execution_count": 8,
                    "metadata": {},
                    "output_type": "execute_result"
                },
                {
                    "data": {
                        "image/png": "[encoded data removed]",
                        "text/plain": [
                            "<Figure size 432x288 with 1 Axes>"
                        ]
                    },
                    "metadata": {
                        "needs_background": "light"
                    },
                    "output_type": "display_data"
                }
            ],
            "source": [
                "sg1.surfaces['anticline_-180.0'].contourf()"
            ]
        },
        {
            "cell_type": "code",
            "execution_count": 9,
            "metadata": {},
            "outputs": [
                {
                    "data": {
                        "text/plain": [
                            "800015.9260285863"
                        ]
                    },
                    "execution_count": 9,
                    "metadata": {},
                    "output_type": "execute_result"
                }
            ],
            "source": [
                "\n",
                "rv, area = sg1.get_volume_bounds(\n",
                "    top_surface = 'anticline',\n",
                "    bottom_surface = 'anticline_-180.0',\n",
                "    method ='contours',\n",
                "    zmin = -5400,zmax=-4900\n",
                ")\n",
                "rv"
            ]
        },
        {
            "cell_type": "code",
            "execution_count": 10,
            "metadata": {},
            "outputs": [
                {
                    "data": {
                        "text/plain": [
                            "<AxesSubplot:xlabel='index', ylabel='area_top'>"
                        ]
                    },
                    "execution_count": 10,
                    "metadata": {},
                    "output_type": "execute_result"
                },
                {
                    "data": {
                        "image/png": "[encoded data removed]",
                        "text/plain": [
                            "<Figure size 720x720 with 1 Axes>"
                        ]
                    },
                    "metadata": {
                        "needs_background": "light"
                    },
                    "output_type": "display_data"
                }
            ],
            "source": [
                "fig, ax = plt.subplots(1,1,figsize=(10,10))\n",
                "sns.lineplot(data=area.reset_index(),x='index',y='area_top',ax=ax)\n",
                "sns.lineplot(data=area.reset_index(),x='index',y='area_bottom',ax=ax)"
            ]
        },
        {
            "cell_type": "code",
            "execution_count": 11,
            "metadata": {},
            "outputs": [],
            "source": [
                "surv1_grid = sg1.surfaces['anticline'].make_grid(dz=-100,nz=5)"
            ]
        },
        {
            "cell_type": "code",
            "execution_count": null,
            "metadata": {},
            "outputs": [],
            "source": [
                "#surv1_vtk.plot()"
            ]
        },
        {
            "cell_type": "code",
            "execution_count": 12,
            "metadata": {},
            "outputs": [
                {
                    "name": "stderr",
                    "output_type": "stream",
                    "text": [
                        "/Users/scuervo91/Documents/dev/volumetricspy/volumetricspy/stats/grid.py:921: UserWarning: VTK 9 no longer accepts an offset array\n",
                        "  grid = pv.UnstructuredGrid(offset, cells, cell_type, points)\n"
                    ]
                }
            ],
            "source": [
                "surv_grid_vtk = surv1_grid.unstructured_grid_vtk()"
            ]
        },
        {
            "cell_type": "code",
            "execution_count": 13,
            "metadata": {},
            "outputs": [
                {
                    "data": {
                        "application/vnd.jupyter.widget-view+json": {
                            "model_id": "f9cf8dd899144a318e134006c794c067",
                            "version_major": 2,
                            "version_minor": 0
                        },
                        "text/plain": [
                            "ViewInteractiveWidget(height=768, layout=Layout(height='auto', width='100%'), width=1024)"
                        ]
                    },
                    "metadata": {},
                    "output_type": "display_data"
                }
            ],
            "source": [
                "surv_grid_vtk.plot()"
            ]
        },
        {
            "cell_type": "code",
            "execution_count": null,
            "metadata": {},
            "outputs": [],
            "source": [
                "surv_grid_vtk.save('test.vtk')"
            ]
        },
        {
            "cell_type": "code",
            "execution_count": 14,
            "metadata": {},
            "outputs": [
                {
                    "data": {
                        "text/html": [
                            "<table><tr><th>Header</th><th>Data Arrays</th></tr><tr><td>\n",
                            "<table>\n",
                            "<tr><th>UnstructuredGrid</th><th>Information</th></tr>\n",
                            "<tr><td>N Cells</td><td>71868</td></tr>\n",
                            "<tr><td>N Points</td><td>574944</td></tr>\n",
                            "<tr><td>X Bounds</td><td>1.102e+06, 1.108e+06</td></tr>\n",
                            "<tr><td>Y Bounds</td><td>1.012e+06, 1.020e+06</td></tr>\n",
                            "<tr><td>Z Bounds</td><td>-6.058e+03, -4.708e+03</td></tr>\n",
                            "<tr><td>N Arrays</td><td>1</td></tr>\n",
                            "</table>\n",
                            "\n",
                            "</td><td>\n",
                            "<table>\n",
                            "<tr><th>Name</th><th>Field</th><th>Type</th><th>N Comp</th><th>Min</th><th>Max</th></tr>\n",
                            "<tr><td><b>Elevation</b></td><td>Points</td><td>float32</td><td>1</td><td>-6.058e+03</td><td>-4.708e+03</td></tr>\n",
                            "</table>\n",
                            "\n",
                            "</td></tr> </table>"
                        ],
                        "text/plain": [
                            "UnstructuredGrid (0x7f7ff8d62ee0)\n",
                            "  N Cells:\t71868\n",
                            "  N Points:\t574944\n",
                            "  X Bounds:\t1.102e+06, 1.108e+06\n",
                            "  Y Bounds:\t1.012e+06, 1.020e+06\n",
                            "  Z Bounds:\t-6.058e+03, -4.708e+03\n",
                            "  N Arrays:\t1"
                        ]
                    },
                    "execution_count": 14,
                    "metadata": {},
                    "output_type": "execute_result"
                }
            ],
            "source": [
                "surv_grid_vtk"
            ]
        },
        {
            "cell_type": "code",
            "execution_count": 15,
            "metadata": {},
            "outputs": [
                {
                    "data": {
                        "text/plain": [
                            "4"
                        ]
                    },
                    "execution_count": 15,
                    "metadata": {},
                    "output_type": "execute_result"
                }
            ],
            "source": [
                "surv1_grid.nz"
            ]
        },
        {
            "cell_type": "code",
            "execution_count": null,
            "metadata": {},
            "outputs": [],
            "source": []
        }
    ],
    "metadata": {
        "kernelspec": {
            "display_name": "Python 3.8.12 ('volumetricspy')",
            "language": "python",
            "name": "python3"
        },
        "language_info": {
            "codemirror_mode": {
                "name": "ipython",
                "version": 3
            },
            "file_extension": ".py",
            "mimetype": "text/x-python",
            "name": "python",
            "nbconvert_exporter": "python",
            "pygments_lexer": "ipython3",
            "version": "3.8.12"
        },
        "orig_nbformat": 4,
        "vscode": {
            "interpreter": {
                "hash": "4fd186ed6b737b57cad5eac0f65cfc44cdfbe03b00597f7cf0d964c404ef24fb"
            }
        }
    },
    "nbformat": 4,
    "nbformat_minor": 2
}
