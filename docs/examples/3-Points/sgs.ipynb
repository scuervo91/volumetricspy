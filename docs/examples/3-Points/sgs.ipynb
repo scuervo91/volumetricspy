{
 "cells": [
  {
   "cell_type": "code",
   "execution_count": 1,
   "metadata": {},
   "outputs": [],
   "source": [
    "# Sequencial Gaussian Simulation"
   ]
  },
  {
   "cell_type": "code",
   "execution_count": 2,
   "metadata": {},
   "outputs": [],
   "source": [
    "from volumetricspy.stats import Dot,CloudPoints, Exponential, NScaler, Spherical\n",
    "import pandas as pd\n",
    "import numpy as np\n",
    "import geopandas as gpd\n",
    "import matplotlib.pyplot as plt\n",
    "import seaborn as sns\n",
    "from scipy.spatial import distance_matrix"
   ]
  },
  {
   "cell_type": "code",
   "execution_count": 3,
   "metadata": {},
   "outputs": [
    {
     "data": {
      "text/html": [
       "<div>\n",
       "<style scoped>\n",
       "    .dataframe tbody tr th:only-of-type {\n",
       "        vertical-align: middle;\n",
       "    }\n",
       "\n",
       "    .dataframe tbody tr th {\n",
       "        vertical-align: top;\n",
       "    }\n",
       "\n",
       "    .dataframe thead th {\n",
       "        text-align: right;\n",
       "    }\n",
       "</style>\n",
       "<table border=\"1\" class=\"dataframe\">\n",
       "  <thead>\n",
       "    <tr style=\"text-align: right;\">\n",
       "      <th></th>\n",
       "      <th>x</th>\n",
       "      <th>y</th>\n",
       "      <th>z</th>\n",
       "      <th>crs</th>\n",
       "      <th>Facies</th>\n",
       "      <th>Porosity</th>\n",
       "      <th>Perm</th>\n",
       "    </tr>\n",
       "  </thead>\n",
       "  <tbody>\n",
       "    <tr>\n",
       "      <th>0</th>\n",
       "      <td>100.0</td>\n",
       "      <td>900.0</td>\n",
       "      <td>None</td>\n",
       "      <td>None</td>\n",
       "      <td>1.0</td>\n",
       "      <td>0.115359</td>\n",
       "      <td>5.736104</td>\n",
       "    </tr>\n",
       "    <tr>\n",
       "      <th>1</th>\n",
       "      <td>100.0</td>\n",
       "      <td>800.0</td>\n",
       "      <td>None</td>\n",
       "      <td>None</td>\n",
       "      <td>1.0</td>\n",
       "      <td>0.136425</td>\n",
       "      <td>17.211462</td>\n",
       "    </tr>\n",
       "    <tr>\n",
       "      <th>2</th>\n",
       "      <td>100.0</td>\n",
       "      <td>600.0</td>\n",
       "      <td>None</td>\n",
       "      <td>None</td>\n",
       "      <td>1.0</td>\n",
       "      <td>0.135810</td>\n",
       "      <td>43.724752</td>\n",
       "    </tr>\n",
       "    <tr>\n",
       "      <th>3</th>\n",
       "      <td>100.0</td>\n",
       "      <td>500.0</td>\n",
       "      <td>None</td>\n",
       "      <td>None</td>\n",
       "      <td>0.0</td>\n",
       "      <td>0.094414</td>\n",
       "      <td>1.609942</td>\n",
       "    </tr>\n",
       "    <tr>\n",
       "      <th>4</th>\n",
       "      <td>100.0</td>\n",
       "      <td>100.0</td>\n",
       "      <td>None</td>\n",
       "      <td>None</td>\n",
       "      <td>0.0</td>\n",
       "      <td>0.113049</td>\n",
       "      <td>10.886001</td>\n",
       "    </tr>\n",
       "    <tr>\n",
       "      <th>...</th>\n",
       "      <td>...</td>\n",
       "      <td>...</td>\n",
       "      <td>...</td>\n",
       "      <td>...</td>\n",
       "      <td>...</td>\n",
       "      <td>...</td>\n",
       "      <td>...</td>\n",
       "    </tr>\n",
       "    <tr>\n",
       "      <th>284</th>\n",
       "      <td>190.0</td>\n",
       "      <td>199.0</td>\n",
       "      <td>None</td>\n",
       "      <td>None</td>\n",
       "      <td>1.0</td>\n",
       "      <td>0.109411</td>\n",
       "      <td>3.247265</td>\n",
       "    </tr>\n",
       "    <tr>\n",
       "      <th>285</th>\n",
       "      <td>190.0</td>\n",
       "      <td>419.0</td>\n",
       "      <td>None</td>\n",
       "      <td>None</td>\n",
       "      <td>0.0</td>\n",
       "      <td>0.099541</td>\n",
       "      <td>1.528003</td>\n",
       "    </tr>\n",
       "    <tr>\n",
       "      <th>286</th>\n",
       "      <td>920.0</td>\n",
       "      <td>379.0</td>\n",
       "      <td>None</td>\n",
       "      <td>None</td>\n",
       "      <td>0.0</td>\n",
       "      <td>0.094099</td>\n",
       "      <td>2.514597</td>\n",
       "    </tr>\n",
       "    <tr>\n",
       "      <th>287</th>\n",
       "      <td>60.0</td>\n",
       "      <td>149.0</td>\n",
       "      <td>None</td>\n",
       "      <td>None</td>\n",
       "      <td>0.0</td>\n",
       "      <td>0.100167</td>\n",
       "      <td>3.636854</td>\n",
       "    </tr>\n",
       "    <tr>\n",
       "      <th>288</th>\n",
       "      <td>390.0</td>\n",
       "      <td>549.0</td>\n",
       "      <td>None</td>\n",
       "      <td>None</td>\n",
       "      <td>1.0</td>\n",
       "      <td>0.153335</td>\n",
       "      <td>165.699353</td>\n",
       "    </tr>\n",
       "  </tbody>\n",
       "</table>\n",
       "<p>289 rows × 7 columns</p>\n",
       "</div>"
      ],
      "text/plain": [
       "         x      y     z   crs  Facies  Porosity        Perm\n",
       "0    100.0  900.0  None  None     1.0  0.115359    5.736104\n",
       "1    100.0  800.0  None  None     1.0  0.136425   17.211462\n",
       "2    100.0  600.0  None  None     1.0  0.135810   43.724752\n",
       "3    100.0  500.0  None  None     0.0  0.094414    1.609942\n",
       "4    100.0  100.0  None  None     0.0  0.113049   10.886001\n",
       "..     ...    ...   ...   ...     ...       ...         ...\n",
       "284  190.0  199.0  None  None     1.0  0.109411    3.247265\n",
       "285  190.0  419.0  None  None     0.0  0.099541    1.528003\n",
       "286  920.0  379.0  None  None     0.0  0.094099    2.514597\n",
       "287   60.0  149.0  None  None     0.0  0.100167    3.636854\n",
       "288  390.0  549.0  None  None     1.0  0.153335  165.699353\n",
       "\n",
       "[289 rows x 7 columns]"
      ]
     },
     "execution_count": 3,
     "metadata": {},
     "output_type": "execute_result"
    }
   ],
   "source": [
    "#df = pd.read_csv('sample_data_biased.csv')     # load our data table\n",
    "df2 = pd.read_csv('https://raw.githubusercontent.com/GeostatsGuy/GeoDataSets/master/sample_data_biased.csv')\n",
    "dcp2 = CloudPoints().from_df(df2, x='X',y='Y', fields=['Facies','Porosity','Perm'])\n",
    "dcp2.df()"
   ]
  },
  {
   "cell_type": "code",
   "execution_count": 4,
   "metadata": {},
   "outputs": [
    {
     "data": {
      "text/plain": [
       "<AxesSubplot:>"
      ]
     },
     "execution_count": 4,
     "metadata": {},
     "output_type": "execute_result"
    },
    {
     "data": {
      "image/png": "[encoded data removed]",
      "text/plain": [
       "<Figure size 432x288 with 1 Axes>"
      ]
     },
     "metadata": {
      "needs_background": "light"
     },
     "output_type": "display_data"
    }
   ],
   "source": [
    "s = Spherical(\n",
    "    sill = 1.,\n",
    "    range = 300,\n",
    "    nugget = 0.\n",
    ")\n",
    "\n",
    "s.plot(np.linspace(0,1000,50))"
   ]
  },
  {
   "cell_type": "code",
   "execution_count": 5,
   "metadata": {},
   "outputs": [
    {
     "data": {
      "text/html": [
       "<div>\n",
       "<style scoped>\n",
       "    .dataframe tbody tr th:only-of-type {\n",
       "        vertical-align: middle;\n",
       "    }\n",
       "\n",
       "    .dataframe tbody tr th {\n",
       "        vertical-align: top;\n",
       "    }\n",
       "\n",
       "    .dataframe thead th {\n",
       "        text-align: right;\n",
       "    }\n",
       "</style>\n",
       "<table border=\"1\" class=\"dataframe\">\n",
       "  <thead>\n",
       "    <tr style=\"text-align: right;\">\n",
       "      <th></th>\n",
       "      <th>x</th>\n",
       "      <th>y</th>\n",
       "      <th>z</th>\n",
       "      <th>crs</th>\n",
       "      <th>Facies</th>\n",
       "      <th>Porosity</th>\n",
       "      <th>Perm</th>\n",
       "      <th>pnorm</th>\n",
       "    </tr>\n",
       "  </thead>\n",
       "  <tbody>\n",
       "    <tr>\n",
       "      <th>0</th>\n",
       "      <td>420.0</td>\n",
       "      <td>99.0</td>\n",
       "      <td>None</td>\n",
       "      <td>None</td>\n",
       "      <td>1.0</td>\n",
       "      <td>0.110440</td>\n",
       "      <td>2.241469</td>\n",
       "      <td>-0.532848</td>\n",
       "    </tr>\n",
       "    <tr>\n",
       "      <th>1</th>\n",
       "      <td>980.0</td>\n",
       "      <td>79.0</td>\n",
       "      <td>None</td>\n",
       "      <td>None</td>\n",
       "      <td>1.0</td>\n",
       "      <td>0.121735</td>\n",
       "      <td>20.097792</td>\n",
       "      <td>-0.196547</td>\n",
       "    </tr>\n",
       "    <tr>\n",
       "      <th>2</th>\n",
       "      <td>700.0</td>\n",
       "      <td>300.0</td>\n",
       "      <td>None</td>\n",
       "      <td>None</td>\n",
       "      <td>1.0</td>\n",
       "      <td>0.140505</td>\n",
       "      <td>20.162171</td>\n",
       "      <td>0.345738</td>\n",
       "    </tr>\n",
       "    <tr>\n",
       "      <th>3</th>\n",
       "      <td>450.0</td>\n",
       "      <td>319.0</td>\n",
       "      <td>None</td>\n",
       "      <td>None</td>\n",
       "      <td>1.0</td>\n",
       "      <td>0.149704</td>\n",
       "      <td>20.672085</td>\n",
       "      <td>0.614482</td>\n",
       "    </tr>\n",
       "    <tr>\n",
       "      <th>4</th>\n",
       "      <td>900.0</td>\n",
       "      <td>679.0</td>\n",
       "      <td>None</td>\n",
       "      <td>None</td>\n",
       "      <td>0.0</td>\n",
       "      <td>0.079189</td>\n",
       "      <td>0.148384</td>\n",
       "      <td>-1.909960</td>\n",
       "    </tr>\n",
       "    <tr>\n",
       "      <th>...</th>\n",
       "      <td>...</td>\n",
       "      <td>...</td>\n",
       "      <td>...</td>\n",
       "      <td>...</td>\n",
       "      <td>...</td>\n",
       "      <td>...</td>\n",
       "      <td>...</td>\n",
       "      <td>...</td>\n",
       "    </tr>\n",
       "    <tr>\n",
       "      <th>95</th>\n",
       "      <td>900.0</td>\n",
       "      <td>200.0</td>\n",
       "      <td>None</td>\n",
       "      <td>None</td>\n",
       "      <td>1.0</td>\n",
       "      <td>0.140610</td>\n",
       "      <td>16.275875</td>\n",
       "      <td>0.348640</td>\n",
       "    </tr>\n",
       "    <tr>\n",
       "      <th>96</th>\n",
       "      <td>570.0</td>\n",
       "      <td>769.0</td>\n",
       "      <td>None</td>\n",
       "      <td>None</td>\n",
       "      <td>1.0</td>\n",
       "      <td>0.116616</td>\n",
       "      <td>6.448798</td>\n",
       "      <td>-0.344972</td>\n",
       "    </tr>\n",
       "    <tr>\n",
       "      <th>97</th>\n",
       "      <td>900.0</td>\n",
       "      <td>900.0</td>\n",
       "      <td>None</td>\n",
       "      <td>None</td>\n",
       "      <td>1.0</td>\n",
       "      <td>0.125826</td>\n",
       "      <td>4.851354</td>\n",
       "      <td>-0.075840</td>\n",
       "    </tr>\n",
       "    <tr>\n",
       "      <th>98</th>\n",
       "      <td>340.0</td>\n",
       "      <td>819.0</td>\n",
       "      <td>None</td>\n",
       "      <td>None</td>\n",
       "      <td>1.0</td>\n",
       "      <td>0.228790</td>\n",
       "      <td>5308.842566</td>\n",
       "      <td>6.361341</td>\n",
       "    </tr>\n",
       "    <tr>\n",
       "      <th>99</th>\n",
       "      <td>20.0</td>\n",
       "      <td>839.0</td>\n",
       "      <td>None</td>\n",
       "      <td>None</td>\n",
       "      <td>0.0</td>\n",
       "      <td>0.099086</td>\n",
       "      <td>1.472265</td>\n",
       "      <td>-0.915126</td>\n",
       "    </tr>\n",
       "  </tbody>\n",
       "</table>\n",
       "<p>100 rows × 8 columns</p>\n",
       "</div>"
      ],
      "text/plain": [
       "        x      y     z   crs  Facies  Porosity         Perm     pnorm\n",
       "0   420.0   99.0  None  None     1.0  0.110440     2.241469 -0.532848\n",
       "1   980.0   79.0  None  None     1.0  0.121735    20.097792 -0.196547\n",
       "2   700.0  300.0  None  None     1.0  0.140505    20.162171  0.345738\n",
       "3   450.0  319.0  None  None     1.0  0.149704    20.672085  0.614482\n",
       "4   900.0  679.0  None  None     0.0  0.079189     0.148384 -1.909960\n",
       "..    ...    ...   ...   ...     ...       ...          ...       ...\n",
       "95  900.0  200.0  None  None     1.0  0.140610    16.275875  0.348640\n",
       "96  570.0  769.0  None  None     1.0  0.116616     6.448798 -0.344972\n",
       "97  900.0  900.0  None  None     1.0  0.125826     4.851354 -0.075840\n",
       "98  340.0  819.0  None  None     1.0  0.228790  5308.842566  6.361341\n",
       "99   20.0  839.0  None  None     0.0  0.099086     1.472265 -0.915126\n",
       "\n",
       "[100 rows x 8 columns]"
      ]
     },
     "execution_count": 5,
     "metadata": {},
     "output_type": "execute_result"
    }
   ],
   "source": [
    "known = dcp2.sample(n=100)\n",
    "sc = NScaler()\n",
    "sc.fit(known.df()['Porosity'])\n",
    "pnorm = sc.transform(known.df()['Porosity'])\n",
    "known.add_field(pnorm, 'pnorm')\n",
    "known.df()"
   ]
  },
  {
   "cell_type": "code",
   "execution_count": 6,
   "metadata": {},
   "outputs": [],
   "source": [
    "xn = np.linspace(0,1000,22)\n",
    "yn = np.linspace(0,1000,22)\n",
    "\n",
    "xx, yy = np.meshgrid(xn, yn)\n",
    "\n",
    "dfun = pd.DataFrame({\"x\":xx.flatten(order='F'),\"y\":yy.flatten(order='F')})\n",
    "cp2 = CloudPoints().from_df(dfun, x='x',y='y')\n"
   ]
  },
  {
   "cell_type": "code",
   "execution_count": 7,
   "metadata": {},
   "outputs": [
    {
     "name": "stdout",
     "output_type": "stream",
     "text": [
      "484 total points, 394 unknown points\n"
     ]
    },
    {
     "data": {
      "text/html": [
       "<div>\n",
       "<style scoped>\n",
       "    .dataframe tbody tr th:only-of-type {\n",
       "        vertical-align: middle;\n",
       "    }\n",
       "\n",
       "    .dataframe tbody tr th {\n",
       "        vertical-align: top;\n",
       "    }\n",
       "\n",
       "    .dataframe thead th {\n",
       "        text-align: right;\n",
       "    }\n",
       "</style>\n",
       "<table border=\"1\" class=\"dataframe\">\n",
       "  <thead>\n",
       "    <tr style=\"text-align: right;\">\n",
       "      <th></th>\n",
       "      <th>x</th>\n",
       "      <th>y</th>\n",
       "      <th>z</th>\n",
       "      <th>crs</th>\n",
       "      <th>pnorm</th>\n",
       "      <th>porosity</th>\n",
       "    </tr>\n",
       "  </thead>\n",
       "  <tbody>\n",
       "    <tr>\n",
       "      <th>0</th>\n",
       "      <td>0.0</td>\n",
       "      <td>0.000000</td>\n",
       "      <td>None</td>\n",
       "      <td>None</td>\n",
       "      <td>-0.218022</td>\n",
       "      <td>0.121016</td>\n",
       "    </tr>\n",
       "    <tr>\n",
       "      <th>1</th>\n",
       "      <td>0.0</td>\n",
       "      <td>47.619048</td>\n",
       "      <td>None</td>\n",
       "      <td>None</td>\n",
       "      <td>-0.229753</td>\n",
       "      <td>0.120620</td>\n",
       "    </tr>\n",
       "    <tr>\n",
       "      <th>2</th>\n",
       "      <td>0.0</td>\n",
       "      <td>95.238095</td>\n",
       "      <td>None</td>\n",
       "      <td>None</td>\n",
       "      <td>-1.032664</td>\n",
       "      <td>0.096082</td>\n",
       "    </tr>\n",
       "    <tr>\n",
       "      <th>3</th>\n",
       "      <td>0.0</td>\n",
       "      <td>142.857143</td>\n",
       "      <td>None</td>\n",
       "      <td>None</td>\n",
       "      <td>-0.803933</td>\n",
       "      <td>0.102242</td>\n",
       "    </tr>\n",
       "    <tr>\n",
       "      <th>4</th>\n",
       "      <td>0.0</td>\n",
       "      <td>190.476190</td>\n",
       "      <td>None</td>\n",
       "      <td>None</td>\n",
       "      <td>-0.693970</td>\n",
       "      <td>0.105606</td>\n",
       "    </tr>\n",
       "    <tr>\n",
       "      <th>...</th>\n",
       "      <td>...</td>\n",
       "      <td>...</td>\n",
       "      <td>...</td>\n",
       "      <td>...</td>\n",
       "      <td>...</td>\n",
       "      <td>...</td>\n",
       "    </tr>\n",
       "    <tr>\n",
       "      <th>479</th>\n",
       "      <td>1000.0</td>\n",
       "      <td>809.523810</td>\n",
       "      <td>None</td>\n",
       "      <td>None</td>\n",
       "      <td>-1.054894</td>\n",
       "      <td>0.095552</td>\n",
       "    </tr>\n",
       "    <tr>\n",
       "      <th>480</th>\n",
       "      <td>1000.0</td>\n",
       "      <td>857.142857</td>\n",
       "      <td>None</td>\n",
       "      <td>None</td>\n",
       "      <td>-0.241335</td>\n",
       "      <td>0.120212</td>\n",
       "    </tr>\n",
       "    <tr>\n",
       "      <th>481</th>\n",
       "      <td>1000.0</td>\n",
       "      <td>904.761905</td>\n",
       "      <td>None</td>\n",
       "      <td>None</td>\n",
       "      <td>0.649187</td>\n",
       "      <td>0.150799</td>\n",
       "    </tr>\n",
       "    <tr>\n",
       "      <th>482</th>\n",
       "      <td>1000.0</td>\n",
       "      <td>952.380952</td>\n",
       "      <td>None</td>\n",
       "      <td>None</td>\n",
       "      <td>0.757768</td>\n",
       "      <td>0.157252</td>\n",
       "    </tr>\n",
       "    <tr>\n",
       "      <th>483</th>\n",
       "      <td>1000.0</td>\n",
       "      <td>1000.000000</td>\n",
       "      <td>None</td>\n",
       "      <td>None</td>\n",
       "      <td>-0.034840</td>\n",
       "      <td>0.127227</td>\n",
       "    </tr>\n",
       "  </tbody>\n",
       "</table>\n",
       "<p>484 rows × 6 columns</p>\n",
       "</div>"
      ],
      "text/plain": [
       "          x            y     z   crs     pnorm  porosity\n",
       "0       0.0     0.000000  None  None -0.218022  0.121016\n",
       "1       0.0    47.619048  None  None -0.229753  0.120620\n",
       "2       0.0    95.238095  None  None -1.032664  0.096082\n",
       "3       0.0   142.857143  None  None -0.803933  0.102242\n",
       "4       0.0   190.476190  None  None -0.693970  0.105606\n",
       "..      ...          ...   ...   ...       ...       ...\n",
       "479  1000.0   809.523810  None  None -1.054894  0.095552\n",
       "480  1000.0   857.142857  None  None -0.241335  0.120212\n",
       "481  1000.0   904.761905  None  None  0.649187  0.150799\n",
       "482  1000.0   952.380952  None  None  0.757768  0.157252\n",
       "483  1000.0  1000.000000  None  None -0.034840  0.127227\n",
       "\n",
       "[484 rows x 6 columns]"
      ]
     },
     "execution_count": 7,
     "metadata": {},
     "output_type": "execute_result"
    }
   ],
   "source": [
    "wm = s.sgs(known,cp2,v='pnorm')\n",
    "\n",
    "df_un = wm.df()\n",
    "df_un['porosity'] = sc.inverse(df_un['pnorm'])\n",
    "df_un"
   ]
  },
  {
   "cell_type": "code",
   "execution_count": 8,
   "metadata": {},
   "outputs": [
    {
     "data": {
      "text/html": [
       "<div>\n",
       "<style scoped>\n",
       "    .dataframe tbody tr th:only-of-type {\n",
       "        vertical-align: middle;\n",
       "    }\n",
       "\n",
       "    .dataframe tbody tr th {\n",
       "        vertical-align: top;\n",
       "    }\n",
       "\n",
       "    .dataframe thead th {\n",
       "        text-align: right;\n",
       "    }\n",
       "</style>\n",
       "<table border=\"1\" class=\"dataframe\">\n",
       "  <thead>\n",
       "    <tr style=\"text-align: right;\">\n",
       "      <th></th>\n",
       "      <th>x</th>\n",
       "      <th>y</th>\n",
       "      <th>z</th>\n",
       "      <th>crs</th>\n",
       "      <th>pnorm</th>\n",
       "      <th>porosity</th>\n",
       "    </tr>\n",
       "  </thead>\n",
       "  <tbody>\n",
       "    <tr>\n",
       "      <th>0</th>\n",
       "      <td>0.0</td>\n",
       "      <td>0.000000</td>\n",
       "      <td>None</td>\n",
       "      <td>None</td>\n",
       "      <td>-0.218022</td>\n",
       "      <td>0.121016</td>\n",
       "    </tr>\n",
       "    <tr>\n",
       "      <th>1</th>\n",
       "      <td>0.0</td>\n",
       "      <td>47.619048</td>\n",
       "      <td>None</td>\n",
       "      <td>None</td>\n",
       "      <td>-0.229753</td>\n",
       "      <td>0.120620</td>\n",
       "    </tr>\n",
       "    <tr>\n",
       "      <th>2</th>\n",
       "      <td>0.0</td>\n",
       "      <td>95.238095</td>\n",
       "      <td>None</td>\n",
       "      <td>None</td>\n",
       "      <td>-1.032664</td>\n",
       "      <td>0.096082</td>\n",
       "    </tr>\n",
       "    <tr>\n",
       "      <th>3</th>\n",
       "      <td>0.0</td>\n",
       "      <td>142.857143</td>\n",
       "      <td>None</td>\n",
       "      <td>None</td>\n",
       "      <td>-0.803933</td>\n",
       "      <td>0.102242</td>\n",
       "    </tr>\n",
       "    <tr>\n",
       "      <th>4</th>\n",
       "      <td>0.0</td>\n",
       "      <td>190.476190</td>\n",
       "      <td>None</td>\n",
       "      <td>None</td>\n",
       "      <td>-0.693970</td>\n",
       "      <td>0.105606</td>\n",
       "    </tr>\n",
       "    <tr>\n",
       "      <th>...</th>\n",
       "      <td>...</td>\n",
       "      <td>...</td>\n",
       "      <td>...</td>\n",
       "      <td>...</td>\n",
       "      <td>...</td>\n",
       "      <td>...</td>\n",
       "    </tr>\n",
       "    <tr>\n",
       "      <th>479</th>\n",
       "      <td>1000.0</td>\n",
       "      <td>809.523810</td>\n",
       "      <td>None</td>\n",
       "      <td>None</td>\n",
       "      <td>-1.054894</td>\n",
       "      <td>0.095552</td>\n",
       "    </tr>\n",
       "    <tr>\n",
       "      <th>480</th>\n",
       "      <td>1000.0</td>\n",
       "      <td>857.142857</td>\n",
       "      <td>None</td>\n",
       "      <td>None</td>\n",
       "      <td>-0.241335</td>\n",
       "      <td>0.120212</td>\n",
       "    </tr>\n",
       "    <tr>\n",
       "      <th>481</th>\n",
       "      <td>1000.0</td>\n",
       "      <td>904.761905</td>\n",
       "      <td>None</td>\n",
       "      <td>None</td>\n",
       "      <td>0.649187</td>\n",
       "      <td>0.150799</td>\n",
       "    </tr>\n",
       "    <tr>\n",
       "      <th>482</th>\n",
       "      <td>1000.0</td>\n",
       "      <td>952.380952</td>\n",
       "      <td>None</td>\n",
       "      <td>None</td>\n",
       "      <td>0.757768</td>\n",
       "      <td>0.157252</td>\n",
       "    </tr>\n",
       "    <tr>\n",
       "      <th>483</th>\n",
       "      <td>1000.0</td>\n",
       "      <td>1000.000000</td>\n",
       "      <td>None</td>\n",
       "      <td>None</td>\n",
       "      <td>-0.034840</td>\n",
       "      <td>0.127227</td>\n",
       "    </tr>\n",
       "  </tbody>\n",
       "</table>\n",
       "<p>484 rows × 6 columns</p>\n",
       "</div>"
      ],
      "text/plain": [
       "          x            y     z   crs     pnorm  porosity\n",
       "0       0.0     0.000000  None  None -0.218022  0.121016\n",
       "1       0.0    47.619048  None  None -0.229753  0.120620\n",
       "2       0.0    95.238095  None  None -1.032664  0.096082\n",
       "3       0.0   142.857143  None  None -0.803933  0.102242\n",
       "4       0.0   190.476190  None  None -0.693970  0.105606\n",
       "..      ...          ...   ...   ...       ...       ...\n",
       "479  1000.0   809.523810  None  None -1.054894  0.095552\n",
       "480  1000.0   857.142857  None  None -0.241335  0.120212\n",
       "481  1000.0   904.761905  None  None  0.649187  0.150799\n",
       "482  1000.0   952.380952  None  None  0.757768  0.157252\n",
       "483  1000.0  1000.000000  None  None -0.034840  0.127227\n",
       "\n",
       "[484 rows x 6 columns]"
      ]
     },
     "execution_count": 8,
     "metadata": {},
     "output_type": "execute_result"
    }
   ],
   "source": [
    "wm.add_fields_from_df(df_un, ['porosity'])\n",
    "\n",
    "wm.df()"
   ]
  },
  {
   "cell_type": "code",
   "execution_count": 9,
   "metadata": {},
   "outputs": [
    {
     "name": "stderr",
     "output_type": "stream",
     "text": [
      "/Users/scuervo91/Documents/dev/volumetricspy/volumetricspy/stats/points.py:200: MatplotlibDeprecationWarning: shading='flat' when X and Y have the same dimensions as C is deprecated since 3.3.  Either specify the corners of the quadrilaterals with X and Y, or pass shading='auto', 'nearest' or 'gouraud', or set rcParams['pcolor.shading'].  This will become an error two minor releases later.\n",
      "  d = ax.pcolormesh(xx,yy,df.values, **kwargs)\n",
      "/Users/scuervo91/Documents/dev/volumetricspy/volumetricspy/stats/points.py:201: MatplotlibDeprecationWarning: Starting from Matplotlib 3.6, colorbar() will steal space from the mappable's axes, rather than from the current axes, to place the colorbar.  To silence this warning, explicitly pass the 'ax' argument to colorbar().\n",
      "  plt.colorbar(d)\n"
     ]
    },
    {
     "data": {
      "text/plain": [
       "<AxesSubplot:xlabel='x', ylabel='y'>"
      ]
     },
     "execution_count": 9,
     "metadata": {},
     "output_type": "execute_result"
    },
    {
     "data": {
      "image/png": "[encoded data removed]",
      "text/plain": [
       "<Figure size 1440x720 with 3 Axes>"
      ]
     },
     "metadata": {
      "needs_background": "light"
     },
     "output_type": "display_data"
    }
   ],
   "source": [
    "fig, ax = plt.subplots(1,2,figsize=(20,10))\n",
    "wm.plot_mesh('porosity',ax=ax[0])\n",
    "known.plot(ax=ax[1], hue='Porosity', palette='viridis')"
   ]
  },
  {
   "cell_type": "code",
   "execution_count": 10,
   "metadata": {},
   "outputs": [
    {
     "data": {
      "text/html": [
       "<div>\n",
       "<style scoped>\n",
       "    .dataframe tbody tr th:only-of-type {\n",
       "        vertical-align: middle;\n",
       "    }\n",
       "\n",
       "    .dataframe tbody tr th {\n",
       "        vertical-align: top;\n",
       "    }\n",
       "\n",
       "    .dataframe thead th {\n",
       "        text-align: right;\n",
       "    }\n",
       "</style>\n",
       "<table border=\"1\" class=\"dataframe\">\n",
       "  <thead>\n",
       "    <tr style=\"text-align: right;\">\n",
       "      <th></th>\n",
       "      <th>x</th>\n",
       "      <th>y</th>\n",
       "      <th>pnorm</th>\n",
       "      <th>porosity</th>\n",
       "    </tr>\n",
       "  </thead>\n",
       "  <tbody>\n",
       "    <tr>\n",
       "      <th>count</th>\n",
       "      <td>484.000000</td>\n",
       "      <td>484.000000</td>\n",
       "      <td>484.000000</td>\n",
       "      <td>484.000000</td>\n",
       "    </tr>\n",
       "    <tr>\n",
       "      <th>mean</th>\n",
       "      <td>500.000000</td>\n",
       "      <td>500.000000</td>\n",
       "      <td>-0.308470</td>\n",
       "      <td>0.121940</td>\n",
       "    </tr>\n",
       "    <tr>\n",
       "      <th>std</th>\n",
       "      <td>302.421570</td>\n",
       "      <td>302.421570</td>\n",
       "      <td>0.927912</td>\n",
       "      <td>0.028991</td>\n",
       "    </tr>\n",
       "    <tr>\n",
       "      <th>min</th>\n",
       "      <td>0.000000</td>\n",
       "      <td>0.000000</td>\n",
       "      <td>-6.361341</td>\n",
       "      <td>0.074373</td>\n",
       "    </tr>\n",
       "    <tr>\n",
       "      <th>25%</th>\n",
       "      <td>238.095238</td>\n",
       "      <td>238.095238</td>\n",
       "      <td>-0.825236</td>\n",
       "      <td>0.101614</td>\n",
       "    </tr>\n",
       "    <tr>\n",
       "      <th>50%</th>\n",
       "      <td>500.000000</td>\n",
       "      <td>500.000000</td>\n",
       "      <td>-0.303514</td>\n",
       "      <td>0.118041</td>\n",
       "    </tr>\n",
       "    <tr>\n",
       "      <th>75%</th>\n",
       "      <td>761.904762</td>\n",
       "      <td>761.904762</td>\n",
       "      <td>0.203908</td>\n",
       "      <td>0.135349</td>\n",
       "    </tr>\n",
       "    <tr>\n",
       "      <th>max</th>\n",
       "      <td>1000.000000</td>\n",
       "      <td>1000.000000</td>\n",
       "      <td>6.361341</td>\n",
       "      <td>0.228790</td>\n",
       "    </tr>\n",
       "  </tbody>\n",
       "</table>\n",
       "</div>"
      ],
      "text/plain": [
       "                 x            y       pnorm    porosity\n",
       "count   484.000000   484.000000  484.000000  484.000000\n",
       "mean    500.000000   500.000000   -0.308470    0.121940\n",
       "std     302.421570   302.421570    0.927912    0.028991\n",
       "min       0.000000     0.000000   -6.361341    0.074373\n",
       "25%     238.095238   238.095238   -0.825236    0.101614\n",
       "50%     500.000000   500.000000   -0.303514    0.118041\n",
       "75%     761.904762   761.904762    0.203908    0.135349\n",
       "max    1000.000000  1000.000000    6.361341    0.228790"
      ]
     },
     "execution_count": 10,
     "metadata": {},
     "output_type": "execute_result"
    }
   ],
   "source": [
    "data=wm.df()\n",
    "data.describe()"
   ]
  },
  {
   "cell_type": "code",
   "execution_count": 11,
   "metadata": {},
   "outputs": [
    {
     "data": {
      "text/plain": [
       "1.1236000000000002"
      ]
     },
     "execution_count": 11,
     "metadata": {},
     "output_type": "execute_result"
    }
   ],
   "source": [
    "1.06**2"
   ]
  },
  {
   "cell_type": "code",
   "execution_count": 12,
   "metadata": {},
   "outputs": [
    {
     "data": {
      "text/plain": [
       "<seaborn.axisgrid.FacetGrid at 0x7fdce2788970>"
      ]
     },
     "execution_count": 12,
     "metadata": {},
     "output_type": "execute_result"
    },
    {
     "data": {
      "image/png": "[encoded data removed]",
      "text/plain": [
       "<Figure size 360x360 with 1 Axes>"
      ]
     },
     "metadata": {
      "needs_background": "light"
     },
     "output_type": "display_data"
    }
   ],
   "source": [
    "sns.displot(data=data.reset_index(), x='porosity', kde=True)"
   ]
  },
  {
   "cell_type": "code",
   "execution_count": 13,
   "metadata": {},
   "outputs": [
    {
     "data": {
      "text/plain": [
       "<seaborn.axisgrid.FacetGrid at 0x7fdcb1a50220>"
      ]
     },
     "execution_count": 13,
     "metadata": {},
     "output_type": "execute_result"
    },
    {
     "data": {
      "image/png": "[encoded data removed]",
      "text/plain": [
       "<Figure size 360x360 with 1 Axes>"
      ]
     },
     "metadata": {
      "needs_background": "light"
     },
     "output_type": "display_data"
    }
   ],
   "source": [
    "sns.displot(data=known.df().reset_index(), x='Porosity', kde=False)"
   ]
  },
  {
   "cell_type": "code",
   "execution_count": 14,
   "metadata": {},
   "outputs": [
    {
     "data": {
      "text/plain": [
       "Index(['x', 'y', 'z', 'crs', 'pnorm', 'porosity'], dtype='object')"
      ]
     },
     "execution_count": 14,
     "metadata": {},
     "output_type": "execute_result"
    }
   ],
   "source": [
    "wm.df().columns"
   ]
  },
  {
   "cell_type": "code",
   "execution_count": 15,
   "metadata": {},
   "outputs": [
    {
     "data": {
      "text/plain": [
       "<AxesSubplot:xlabel='lag', ylabel='var'>"
      ]
     },
     "execution_count": 15,
     "metadata": {},
     "output_type": "execute_result"
    },
    {
     "data": {
      "image/png": "[encoded data removed]",
      "text/plain": [
       "<Figure size 1080x504 with 1 Axes>"
      ]
     },
     "metadata": {
      "needs_background": "light"
     },
     "output_type": "display_data"
    }
   ],
   "source": [
    "dfsm, sm = wm.variogram('pnorm',lag_dist=50, lag_tol=25,nlags=50)\n",
    "fig, ax = plt.subplots(1,1,figsize=(15,7))\n",
    "\n",
    "sns.scatterplot(data=sm, x='lag', y='var', ax=ax)\n",
    "s.plot(np.linspace(0,1000,20),ax=ax)"
   ]
  },
  {
   "cell_type": "code",
   "execution_count": 16,
   "metadata": {},
   "outputs": [
    {
     "data": {
      "text/html": [
       "<div>\n",
       "<style scoped>\n",
       "    .dataframe tbody tr th:only-of-type {\n",
       "        vertical-align: middle;\n",
       "    }\n",
       "\n",
       "    .dataframe tbody tr th {\n",
       "        vertical-align: top;\n",
       "    }\n",
       "\n",
       "    .dataframe thead th {\n",
       "        text-align: right;\n",
       "    }\n",
       "</style>\n",
       "<table border=\"1\" class=\"dataframe\">\n",
       "  <thead>\n",
       "    <tr style=\"text-align: right;\">\n",
       "      <th></th>\n",
       "      <th>porosity</th>\n",
       "      <th>pnorm</th>\n",
       "    </tr>\n",
       "  </thead>\n",
       "  <tbody>\n",
       "    <tr>\n",
       "      <th>count</th>\n",
       "      <td>484.000000</td>\n",
       "      <td>484.000000</td>\n",
       "    </tr>\n",
       "    <tr>\n",
       "      <th>mean</th>\n",
       "      <td>0.121940</td>\n",
       "      <td>-0.308470</td>\n",
       "    </tr>\n",
       "    <tr>\n",
       "      <th>std</th>\n",
       "      <td>0.028991</td>\n",
       "      <td>0.927912</td>\n",
       "    </tr>\n",
       "    <tr>\n",
       "      <th>min</th>\n",
       "      <td>0.074373</td>\n",
       "      <td>-6.361341</td>\n",
       "    </tr>\n",
       "    <tr>\n",
       "      <th>25%</th>\n",
       "      <td>0.101614</td>\n",
       "      <td>-0.825236</td>\n",
       "    </tr>\n",
       "    <tr>\n",
       "      <th>50%</th>\n",
       "      <td>0.118041</td>\n",
       "      <td>-0.303514</td>\n",
       "    </tr>\n",
       "    <tr>\n",
       "      <th>75%</th>\n",
       "      <td>0.135349</td>\n",
       "      <td>0.203908</td>\n",
       "    </tr>\n",
       "    <tr>\n",
       "      <th>max</th>\n",
       "      <td>0.228790</td>\n",
       "      <td>6.361341</td>\n",
       "    </tr>\n",
       "  </tbody>\n",
       "</table>\n",
       "</div>"
      ],
      "text/plain": [
       "         porosity       pnorm\n",
       "count  484.000000  484.000000\n",
       "mean     0.121940   -0.308470\n",
       "std      0.028991    0.927912\n",
       "min      0.074373   -6.361341\n",
       "25%      0.101614   -0.825236\n",
       "50%      0.118041   -0.303514\n",
       "75%      0.135349    0.203908\n",
       "max      0.228790    6.361341"
      ]
     },
     "execution_count": 16,
     "metadata": {},
     "output_type": "execute_result"
    }
   ],
   "source": [
    "wm.df()[['porosity','pnorm']].describe()"
   ]
  }
 ],
 "metadata": {
  "interpreter": {
   "hash": "4fd186ed6b737b57cad5eac0f65cfc44cdfbe03b00597f7cf0d964c404ef24fb"
  },
  "kernelspec": {
   "display_name": "Python 3.8.12 64-bit ('volumetricspy': conda)",
   "language": "python",
   "name": "python3"
  },
  "language_info": {
   "codemirror_mode": {
    "name": "ipython",
    "version": 3
   },
   "file_extension": ".py",
   "mimetype": "text/x-python",
   "name": "python",
   "nbconvert_exporter": "python",
   "pygments_lexer": "ipython3",
   "version": "3.8.12"
  },
  "orig_nbformat": 4
 },
 "nbformat": 4,
 "nbformat_minor": 2
}
