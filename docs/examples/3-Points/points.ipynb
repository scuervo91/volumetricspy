{
 "cells": [
  {
   "cell_type": "code",
   "execution_count": 1,
   "metadata": {},
   "outputs": [],
   "source": [
    "#points"
   ]
  },
  {
   "cell_type": "code",
   "execution_count": 2,
   "metadata": {},
   "outputs": [],
   "source": [
    "from volumetricspy.stats import Dot,CloudPoints\n",
    "from volumetricspy.utils import azimuth_matrix, angle_matrix\n",
    "import pandas as pd\n",
    "import numpy as np\n",
    "import geopandas as gpd\n",
    "import matplotlib.pyplot as plt\n",
    "import seaborn as sns\n",
    "from scipy.spatial import Voronoi, voronoi_plot_2d\n"
   ]
  },
  {
   "cell_type": "code",
   "execution_count": 3,
   "metadata": {},
   "outputs": [],
   "source": [
    "p1 = Dot(x=10,y=20,z=1, fields={'phi':0.15})\n"
   ]
  },
  {
   "cell_type": "code",
   "execution_count": 4,
   "metadata": {},
   "outputs": [
    {
     "data": {
      "text/html": [
       "<div>\n",
       "<style scoped>\n",
       "    .dataframe tbody tr th:only-of-type {\n",
       "        vertical-align: middle;\n",
       "    }\n",
       "\n",
       "    .dataframe tbody tr th {\n",
       "        vertical-align: top;\n",
       "    }\n",
       "\n",
       "    .dataframe thead th {\n",
       "        text-align: right;\n",
       "    }\n",
       "</style>\n",
       "<table border=\"1\" class=\"dataframe\">\n",
       "  <thead>\n",
       "    <tr style=\"text-align: right;\">\n",
       "      <th></th>\n",
       "      <th>x</th>\n",
       "      <th>y</th>\n",
       "      <th>z</th>\n",
       "      <th>crs</th>\n",
       "      <th>phi</th>\n",
       "    </tr>\n",
       "  </thead>\n",
       "  <tbody>\n",
       "    <tr>\n",
       "      <th>0</th>\n",
       "      <td>10.0</td>\n",
       "      <td>20.0</td>\n",
       "      <td>1.0</td>\n",
       "      <td>None</td>\n",
       "      <td>0.15</td>\n",
       "    </tr>\n",
       "  </tbody>\n",
       "</table>\n",
       "</div>"
      ],
      "text/plain": [
       "      x     y    z   crs   phi\n",
       "0  10.0  20.0  1.0  None  0.15"
      ]
     },
     "execution_count": 4,
     "metadata": {},
     "output_type": "execute_result"
    }
   ],
   "source": [
    "p1.df()"
   ]
  },
  {
   "cell_type": "code",
   "execution_count": 5,
   "metadata": {},
   "outputs": [
    {
     "data": {
      "image/svg+xml": "<svg xmlns=\"http://www.w3.org/2000/svg\" xmlns:xlink=\"http://www.w3.org/1999/xlink\" width=\"100.0\" height=\"100.0\" viewBox=\"9.0 19.0 2.0 2.0\" preserveAspectRatio=\"xMinYMin meet\"><g transform=\"matrix(1,0,0,-1,0,40.0)\"><circle cx=\"10.0\" cy=\"20.0\" r=\"0.06\" stroke=\"#555555\" stroke-width=\"0.02\" fill=\"#66cc99\" opacity=\"0.6\" /></g></svg>",
      "text/plain": [
       "<shapely.geometry.point.Point at 0x7ff320b0da90>"
      ]
     },
     "execution_count": 5,
     "metadata": {},
     "output_type": "execute_result"
    }
   ],
   "source": [
    "p1.to_shapely()"
   ]
  },
  {
   "cell_type": "code",
   "execution_count": 6,
   "metadata": {},
   "outputs": [
    {
     "data": {
      "text/html": [
       "<div>\n",
       "<style scoped>\n",
       "    .dataframe tbody tr th:only-of-type {\n",
       "        vertical-align: middle;\n",
       "    }\n",
       "\n",
       "    .dataframe tbody tr th {\n",
       "        vertical-align: top;\n",
       "    }\n",
       "\n",
       "    .dataframe thead th {\n",
       "        text-align: right;\n",
       "    }\n",
       "</style>\n",
       "<table border=\"1\" class=\"dataframe\">\n",
       "  <thead>\n",
       "    <tr style=\"text-align: right;\">\n",
       "      <th></th>\n",
       "      <th>X</th>\n",
       "      <th>Y</th>\n",
       "      <th>Facies</th>\n",
       "      <th>Porosity</th>\n",
       "      <th>Perm</th>\n",
       "    </tr>\n",
       "  </thead>\n",
       "  <tbody>\n",
       "    <tr>\n",
       "      <th>0</th>\n",
       "      <td>100</td>\n",
       "      <td>900</td>\n",
       "      <td>1</td>\n",
       "      <td>0.115359</td>\n",
       "      <td>5.736104</td>\n",
       "    </tr>\n",
       "    <tr>\n",
       "      <th>1</th>\n",
       "      <td>100</td>\n",
       "      <td>800</td>\n",
       "      <td>1</td>\n",
       "      <td>0.136425</td>\n",
       "      <td>17.211462</td>\n",
       "    </tr>\n",
       "    <tr>\n",
       "      <th>2</th>\n",
       "      <td>100</td>\n",
       "      <td>600</td>\n",
       "      <td>1</td>\n",
       "      <td>0.135810</td>\n",
       "      <td>43.724752</td>\n",
       "    </tr>\n",
       "    <tr>\n",
       "      <th>3</th>\n",
       "      <td>100</td>\n",
       "      <td>500</td>\n",
       "      <td>0</td>\n",
       "      <td>0.094414</td>\n",
       "      <td>1.609942</td>\n",
       "    </tr>\n",
       "    <tr>\n",
       "      <th>4</th>\n",
       "      <td>100</td>\n",
       "      <td>100</td>\n",
       "      <td>0</td>\n",
       "      <td>0.113049</td>\n",
       "      <td>10.886001</td>\n",
       "    </tr>\n",
       "    <tr>\n",
       "      <th>...</th>\n",
       "      <td>...</td>\n",
       "      <td>...</td>\n",
       "      <td>...</td>\n",
       "      <td>...</td>\n",
       "      <td>...</td>\n",
       "    </tr>\n",
       "    <tr>\n",
       "      <th>284</th>\n",
       "      <td>190</td>\n",
       "      <td>199</td>\n",
       "      <td>1</td>\n",
       "      <td>0.109411</td>\n",
       "      <td>3.247265</td>\n",
       "    </tr>\n",
       "    <tr>\n",
       "      <th>285</th>\n",
       "      <td>190</td>\n",
       "      <td>419</td>\n",
       "      <td>0</td>\n",
       "      <td>0.099541</td>\n",
       "      <td>1.528003</td>\n",
       "    </tr>\n",
       "    <tr>\n",
       "      <th>286</th>\n",
       "      <td>920</td>\n",
       "      <td>379</td>\n",
       "      <td>0</td>\n",
       "      <td>0.094099</td>\n",
       "      <td>2.514597</td>\n",
       "    </tr>\n",
       "    <tr>\n",
       "      <th>287</th>\n",
       "      <td>60</td>\n",
       "      <td>149</td>\n",
       "      <td>0</td>\n",
       "      <td>0.100167</td>\n",
       "      <td>3.636854</td>\n",
       "    </tr>\n",
       "    <tr>\n",
       "      <th>288</th>\n",
       "      <td>390</td>\n",
       "      <td>549</td>\n",
       "      <td>1</td>\n",
       "      <td>0.153335</td>\n",
       "      <td>165.699353</td>\n",
       "    </tr>\n",
       "  </tbody>\n",
       "</table>\n",
       "<p>289 rows × 5 columns</p>\n",
       "</div>"
      ],
      "text/plain": [
       "       X    Y  Facies  Porosity        Perm\n",
       "0    100  900       1  0.115359    5.736104\n",
       "1    100  800       1  0.136425   17.211462\n",
       "2    100  600       1  0.135810   43.724752\n",
       "3    100  500       0  0.094414    1.609942\n",
       "4    100  100       0  0.113049   10.886001\n",
       "..   ...  ...     ...       ...         ...\n",
       "284  190  199       1  0.109411    3.247265\n",
       "285  190  419       0  0.099541    1.528003\n",
       "286  920  379       0  0.094099    2.514597\n",
       "287   60  149       0  0.100167    3.636854\n",
       "288  390  549       1  0.153335  165.699353\n",
       "\n",
       "[289 rows x 5 columns]"
      ]
     },
     "execution_count": 6,
     "metadata": {},
     "output_type": "execute_result"
    }
   ],
   "source": [
    "#df = pd.read_csv('sample_data_biased.csv')     # load our data table\n",
    "df = pd.read_csv('https://raw.githubusercontent.com/GeostatsGuy/GeoDataSets/master/sample_data_biased.csv')\n",
    "df"
   ]
  },
  {
   "cell_type": "code",
   "execution_count": 7,
   "metadata": {},
   "outputs": [
    {
     "data": {
      "text/html": [
       "<div>\n",
       "<style scoped>\n",
       "    .dataframe tbody tr th:only-of-type {\n",
       "        vertical-align: middle;\n",
       "    }\n",
       "\n",
       "    .dataframe tbody tr th {\n",
       "        vertical-align: top;\n",
       "    }\n",
       "\n",
       "    .dataframe thead th {\n",
       "        text-align: right;\n",
       "    }\n",
       "</style>\n",
       "<table border=\"1\" class=\"dataframe\">\n",
       "  <thead>\n",
       "    <tr style=\"text-align: right;\">\n",
       "      <th></th>\n",
       "      <th>x</th>\n",
       "      <th>y</th>\n",
       "      <th>z</th>\n",
       "      <th>crs</th>\n",
       "      <th>Facies</th>\n",
       "      <th>Porosity</th>\n",
       "      <th>Perm</th>\n",
       "    </tr>\n",
       "  </thead>\n",
       "  <tbody>\n",
       "    <tr>\n",
       "      <th>0</th>\n",
       "      <td>100.0</td>\n",
       "      <td>900.0</td>\n",
       "      <td>None</td>\n",
       "      <td>None</td>\n",
       "      <td>1.0</td>\n",
       "      <td>0.115359</td>\n",
       "      <td>5.736104</td>\n",
       "    </tr>\n",
       "    <tr>\n",
       "      <th>1</th>\n",
       "      <td>100.0</td>\n",
       "      <td>800.0</td>\n",
       "      <td>None</td>\n",
       "      <td>None</td>\n",
       "      <td>1.0</td>\n",
       "      <td>0.136425</td>\n",
       "      <td>17.211462</td>\n",
       "    </tr>\n",
       "    <tr>\n",
       "      <th>2</th>\n",
       "      <td>100.0</td>\n",
       "      <td>600.0</td>\n",
       "      <td>None</td>\n",
       "      <td>None</td>\n",
       "      <td>1.0</td>\n",
       "      <td>0.135810</td>\n",
       "      <td>43.724752</td>\n",
       "    </tr>\n",
       "    <tr>\n",
       "      <th>3</th>\n",
       "      <td>100.0</td>\n",
       "      <td>500.0</td>\n",
       "      <td>None</td>\n",
       "      <td>None</td>\n",
       "      <td>0.0</td>\n",
       "      <td>0.094414</td>\n",
       "      <td>1.609942</td>\n",
       "    </tr>\n",
       "    <tr>\n",
       "      <th>4</th>\n",
       "      <td>100.0</td>\n",
       "      <td>100.0</td>\n",
       "      <td>None</td>\n",
       "      <td>None</td>\n",
       "      <td>0.0</td>\n",
       "      <td>0.113049</td>\n",
       "      <td>10.886001</td>\n",
       "    </tr>\n",
       "    <tr>\n",
       "      <th>...</th>\n",
       "      <td>...</td>\n",
       "      <td>...</td>\n",
       "      <td>...</td>\n",
       "      <td>...</td>\n",
       "      <td>...</td>\n",
       "      <td>...</td>\n",
       "      <td>...</td>\n",
       "    </tr>\n",
       "    <tr>\n",
       "      <th>284</th>\n",
       "      <td>190.0</td>\n",
       "      <td>199.0</td>\n",
       "      <td>None</td>\n",
       "      <td>None</td>\n",
       "      <td>1.0</td>\n",
       "      <td>0.109411</td>\n",
       "      <td>3.247265</td>\n",
       "    </tr>\n",
       "    <tr>\n",
       "      <th>285</th>\n",
       "      <td>190.0</td>\n",
       "      <td>419.0</td>\n",
       "      <td>None</td>\n",
       "      <td>None</td>\n",
       "      <td>0.0</td>\n",
       "      <td>0.099541</td>\n",
       "      <td>1.528003</td>\n",
       "    </tr>\n",
       "    <tr>\n",
       "      <th>286</th>\n",
       "      <td>920.0</td>\n",
       "      <td>379.0</td>\n",
       "      <td>None</td>\n",
       "      <td>None</td>\n",
       "      <td>0.0</td>\n",
       "      <td>0.094099</td>\n",
       "      <td>2.514597</td>\n",
       "    </tr>\n",
       "    <tr>\n",
       "      <th>287</th>\n",
       "      <td>60.0</td>\n",
       "      <td>149.0</td>\n",
       "      <td>None</td>\n",
       "      <td>None</td>\n",
       "      <td>0.0</td>\n",
       "      <td>0.100167</td>\n",
       "      <td>3.636854</td>\n",
       "    </tr>\n",
       "    <tr>\n",
       "      <th>288</th>\n",
       "      <td>390.0</td>\n",
       "      <td>549.0</td>\n",
       "      <td>None</td>\n",
       "      <td>None</td>\n",
       "      <td>1.0</td>\n",
       "      <td>0.153335</td>\n",
       "      <td>165.699353</td>\n",
       "    </tr>\n",
       "  </tbody>\n",
       "</table>\n",
       "<p>289 rows × 7 columns</p>\n",
       "</div>"
      ],
      "text/plain": [
       "         x      y     z   crs  Facies  Porosity        Perm\n",
       "0    100.0  900.0  None  None     1.0  0.115359    5.736104\n",
       "1    100.0  800.0  None  None     1.0  0.136425   17.211462\n",
       "2    100.0  600.0  None  None     1.0  0.135810   43.724752\n",
       "3    100.0  500.0  None  None     0.0  0.094414    1.609942\n",
       "4    100.0  100.0  None  None     0.0  0.113049   10.886001\n",
       "..     ...    ...   ...   ...     ...       ...         ...\n",
       "284  190.0  199.0  None  None     1.0  0.109411    3.247265\n",
       "285  190.0  419.0  None  None     0.0  0.099541    1.528003\n",
       "286  920.0  379.0  None  None     0.0  0.094099    2.514597\n",
       "287   60.0  149.0  None  None     0.0  0.100167    3.636854\n",
       "288  390.0  549.0  None  None     1.0  0.153335  165.699353\n",
       "\n",
       "[289 rows x 7 columns]"
      ]
     },
     "execution_count": 7,
     "metadata": {},
     "output_type": "execute_result"
    }
   ],
   "source": [
    "cp = CloudPoints().from_df(df, x='X',y='Y', fields=['Facies','Porosity','Perm'])\n",
    "cp.df()"
   ]
  },
  {
   "cell_type": "code",
   "execution_count": 8,
   "metadata": {},
   "outputs": [
    {
     "data": {
      "text/plain": [
       "(289, 289)"
      ]
     },
     "execution_count": 8,
     "metadata": {},
     "output_type": "execute_result"
    }
   ],
   "source": [
    "cp.distance_matrix().shape"
   ]
  },
  {
   "cell_type": "code",
   "execution_count": 9,
   "metadata": {},
   "outputs": [
    {
     "data": {
      "text/plain": [
       "CloudPoints(points=[Dot(x=190.0, y=419.0, z=None, crs=None, fields={'Facies': 0.0, 'Porosity': 0.0995413, 'Perm': 1.528003187}), Dot(x=690.0, y=559.0, z=None, crs=None, fields={'Facies': 0.0, 'Porosity': 0.109997744, 'Perm': 4.75045942}), Dot(x=730.0, y=169.0, z=None, crs=None, fields={'Facies': 1.0, 'Porosity': 0.133723851, 'Perm': 7.35009743}), Dot(x=800.0, y=900.0, z=None, crs=None, fields={'Facies': 1.0, 'Porosity': 0.105208576, 'Perm': 2.792794602}), Dot(x=130.0, y=269.0, z=None, crs=None, fields={'Facies': 0.0, 'Porosity': 0.096372607, 'Perm': 1.960928322}), Dot(x=60.0, y=149.0, z=None, crs=None, fields={'Facies': 0.0, 'Porosity': 0.100167231, 'Perm': 3.636854308}), Dot(x=140.0, y=869.0, z=None, crs=None, fields={'Facies': 1.0, 'Porosity': 0.118977809, 'Perm': 9.936889584}), Dot(x=900.0, y=559.0, z=None, crs=None, fields={'Facies': 1.0, 'Porosity': 0.133473829, 'Perm': 13.10469744}), Dot(x=630.0, y=809.0, z=None, crs=None, fields={'Facies': 1.0, 'Porosity': 0.101319665, 'Perm': 3.002767293}), Dot(x=370.0, y=39.0, z=None, crs=None, fields={'Facies': 1.0, 'Porosity': 0.112108994, 'Perm': 2.284547669})])"
      ]
     },
     "execution_count": 9,
     "metadata": {},
     "output_type": "execute_result"
    }
   ],
   "source": [
    "cps = cp.sample(n=10)\n",
    "cps"
   ]
  },
  {
   "cell_type": "code",
   "execution_count": 10,
   "metadata": {},
   "outputs": [
    {
     "name": "stdout",
     "output_type": "stream",
     "text": [
      "190.0\n",
      "690.0\n",
      "730.0\n",
      "800.0\n",
      "130.0\n",
      "60.0\n",
      "140.0\n",
      "900.0\n",
      "630.0\n",
      "370.0\n"
     ]
    }
   ],
   "source": [
    "for i in cps:\n",
    "    print(i.x)"
   ]
  },
  {
   "cell_type": "code",
   "execution_count": null,
   "metadata": {},
   "outputs": [],
   "source": [
    "cp.plot(hue='Porosity',palette='viridis')"
   ]
  },
  {
   "cell_type": "code",
   "execution_count": null,
   "metadata": {},
   "outputs": [],
   "source": [
    "vr = Voronoi(df[['X','Y']].values)\n",
    "voronoi_plot_2d(vr)"
   ]
  },
  {
   "cell_type": "code",
   "execution_count": null,
   "metadata": {},
   "outputs": [],
   "source": [
    "cp1 = cp.sample(10)\n",
    "cp1.df()"
   ]
  },
  {
   "cell_type": "code",
   "execution_count": null,
   "metadata": {},
   "outputs": [],
   "source": [
    "azi = 180\n",
    "azi_tol =20\n",
    "vr,sm=cp.variogram('Porosity',lag_dist=50, lag_tol=25,nlags=20)\n",
    "vr"
   ]
  },
  {
   "cell_type": "code",
   "execution_count": null,
   "metadata": {},
   "outputs": [],
   "source": [
    "sns.scatterplot(data=sm, x='lag', y='var')"
   ]
  },
  {
   "cell_type": "code",
   "execution_count": null,
   "metadata": {},
   "outputs": [],
   "source": [
    "cp.df()['Porosity'].var()"
   ]
  },
  {
   "cell_type": "code",
   "execution_count": null,
   "metadata": {},
   "outputs": [],
   "source": []
  }
 ],
 "metadata": {
  "interpreter": {
   "hash": "4fd186ed6b737b57cad5eac0f65cfc44cdfbe03b00597f7cf0d964c404ef24fb"
  },
  "kernelspec": {
   "display_name": "Python 3.8.12 64-bit ('volumetricspy': conda)",
   "language": "python",
   "name": "python3"
  },
  "language_info": {
   "codemirror_mode": {
    "name": "ipython",
    "version": 3
   },
   "file_extension": ".py",
   "mimetype": "text/x-python",
   "name": "python",
   "nbconvert_exporter": "python",
   "pygments_lexer": "ipython3",
   "version": "3.8.12"
  },
  "orig_nbformat": 4
 },
 "nbformat": 4,
 "nbformat_minor": 2
}
