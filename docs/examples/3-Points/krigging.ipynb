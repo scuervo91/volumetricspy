{
 "cells": [
  {
   "cell_type": "code",
   "execution_count": 1,
   "metadata": {},
   "outputs": [],
   "source": [
    "# Krigging"
   ]
  },
  {
   "cell_type": "code",
   "execution_count": 2,
   "metadata": {},
   "outputs": [],
   "source": [
    "from volumetricspy.stats import Dot,CloudPoints, Exponential\n",
    "import pandas as pd\n",
    "import numpy as np\n",
    "import geopandas as gpd\n",
    "import matplotlib.pyplot as plt\n",
    "import seaborn as sns\n",
    "from scipy.spatial import distance_matrix"
   ]
  },
  {
   "cell_type": "code",
   "execution_count": 3,
   "metadata": {},
   "outputs": [
    {
     "data": {
      "text/html": [
       "<div>\n",
       "<style scoped>\n",
       "    .dataframe tbody tr th:only-of-type {\n",
       "        vertical-align: middle;\n",
       "    }\n",
       "\n",
       "    .dataframe tbody tr th {\n",
       "        vertical-align: top;\n",
       "    }\n",
       "\n",
       "    .dataframe thead th {\n",
       "        text-align: right;\n",
       "    }\n",
       "</style>\n",
       "<table border=\"1\" class=\"dataframe\">\n",
       "  <thead>\n",
       "    <tr style=\"text-align: right;\">\n",
       "      <th></th>\n",
       "      <th>x</th>\n",
       "      <th>y</th>\n",
       "      <th>z</th>\n",
       "      <th>crs</th>\n",
       "      <th>v</th>\n",
       "      <th>geometry</th>\n",
       "    </tr>\n",
       "  </thead>\n",
       "  <tbody>\n",
       "    <tr>\n",
       "      <th>0</th>\n",
       "      <td>0.0</td>\n",
       "      <td>0.0</td>\n",
       "      <td>None</td>\n",
       "      <td>None</td>\n",
       "      <td>1.0</td>\n",
       "      <td>POINT (0.00000 0.00000)</td>\n",
       "    </tr>\n",
       "    <tr>\n",
       "      <th>0</th>\n",
       "      <td>1.0</td>\n",
       "      <td>0.0</td>\n",
       "      <td>None</td>\n",
       "      <td>None</td>\n",
       "      <td>2.0</td>\n",
       "      <td>POINT (1.00000 0.00000)</td>\n",
       "    </tr>\n",
       "    <tr>\n",
       "      <th>0</th>\n",
       "      <td>2.0</td>\n",
       "      <td>0.0</td>\n",
       "      <td>None</td>\n",
       "      <td>None</td>\n",
       "      <td>4.0</td>\n",
       "      <td>POINT (2.00000 0.00000)</td>\n",
       "    </tr>\n",
       "    <tr>\n",
       "      <th>0</th>\n",
       "      <td>0.0</td>\n",
       "      <td>1.0</td>\n",
       "      <td>None</td>\n",
       "      <td>None</td>\n",
       "      <td>5.0</td>\n",
       "      <td>POINT (0.00000 1.00000)</td>\n",
       "    </tr>\n",
       "    <tr>\n",
       "      <th>0</th>\n",
       "      <td>0.0</td>\n",
       "      <td>2.0</td>\n",
       "      <td>None</td>\n",
       "      <td>None</td>\n",
       "      <td>6.0</td>\n",
       "      <td>POINT (0.00000 2.00000)</td>\n",
       "    </tr>\n",
       "    <tr>\n",
       "      <th>0</th>\n",
       "      <td>2.0</td>\n",
       "      <td>2.0</td>\n",
       "      <td>None</td>\n",
       "      <td>None</td>\n",
       "      <td>27.0</td>\n",
       "      <td>POINT (2.00000 2.00000)</td>\n",
       "    </tr>\n",
       "  </tbody>\n",
       "</table>\n",
       "</div>"
      ],
      "text/plain": [
       "     x    y     z   crs     v                 geometry\n",
       "0  0.0  0.0  None  None   1.0  POINT (0.00000 0.00000)\n",
       "0  1.0  0.0  None  None   2.0  POINT (1.00000 0.00000)\n",
       "0  2.0  0.0  None  None   4.0  POINT (2.00000 0.00000)\n",
       "0  0.0  1.0  None  None   5.0  POINT (0.00000 1.00000)\n",
       "0  0.0  2.0  None  None   6.0  POINT (0.00000 2.00000)\n",
       "0  2.0  2.0  None  None  27.0  POINT (2.00000 2.00000)"
      ]
     },
     "execution_count": 3,
     "metadata": {},
     "output_type": "execute_result"
    }
   ],
   "source": [
    "x = [0,1,2,0,0,2]\n",
    "y = [0,0,0,1,2,2]\n",
    "v = [1,2,4,5,6,27]\n",
    "\n",
    "dfp = pd.DataFrame({\"x\":x,\"y\":y,\"v\":v})\n",
    "\n",
    "cp = CloudPoints().from_df(dfp, x='x',y='y',fields=['v'])\n",
    "cp.df()"
   ]
  },
  {
   "cell_type": "code",
   "execution_count": 4,
   "metadata": {},
   "outputs": [
    {
     "data": {
      "text/plain": [
       "<AxesSubplot:xlabel='x', ylabel='y'>"
      ]
     },
     "execution_count": 4,
     "metadata": {},
     "output_type": "execute_result"
    },
    {
     "data": {
      "image/png": "[encoded data removed]",
      "text/plain": [
       "<Figure size 432x288 with 1 Axes>"
      ]
     },
     "metadata": {
      "needs_background": "light"
     },
     "output_type": "display_data"
    }
   ],
   "source": [
    "cp.plot(hue='v')"
   ]
  },
  {
   "cell_type": "code",
   "execution_count": 5,
   "metadata": {},
   "outputs": [
    {
     "data": {
      "text/html": [
       "<div>\n",
       "<style scoped>\n",
       "    .dataframe tbody tr th:only-of-type {\n",
       "        vertical-align: middle;\n",
       "    }\n",
       "\n",
       "    .dataframe tbody tr th {\n",
       "        vertical-align: top;\n",
       "    }\n",
       "\n",
       "    .dataframe thead th {\n",
       "        text-align: right;\n",
       "    }\n",
       "</style>\n",
       "<table border=\"1\" class=\"dataframe\">\n",
       "  <thead>\n",
       "    <tr style=\"text-align: right;\">\n",
       "      <th></th>\n",
       "      <th>x</th>\n",
       "      <th>y</th>\n",
       "      <th>z</th>\n",
       "      <th>crs</th>\n",
       "      <th>geometry</th>\n",
       "    </tr>\n",
       "  </thead>\n",
       "  <tbody>\n",
       "    <tr>\n",
       "      <th>0</th>\n",
       "      <td>1.0</td>\n",
       "      <td>1.0</td>\n",
       "      <td>None</td>\n",
       "      <td>None</td>\n",
       "      <td>POINT (1.00000 1.00000)</td>\n",
       "    </tr>\n",
       "    <tr>\n",
       "      <th>0</th>\n",
       "      <td>2.0</td>\n",
       "      <td>1.0</td>\n",
       "      <td>None</td>\n",
       "      <td>None</td>\n",
       "      <td>POINT (2.00000 1.00000)</td>\n",
       "    </tr>\n",
       "    <tr>\n",
       "      <th>0</th>\n",
       "      <td>1.0</td>\n",
       "      <td>2.0</td>\n",
       "      <td>None</td>\n",
       "      <td>None</td>\n",
       "      <td>POINT (1.00000 2.00000)</td>\n",
       "    </tr>\n",
       "    <tr>\n",
       "      <th>0</th>\n",
       "      <td>2.0</td>\n",
       "      <td>2.0</td>\n",
       "      <td>None</td>\n",
       "      <td>None</td>\n",
       "      <td>POINT (2.00000 2.00000)</td>\n",
       "    </tr>\n",
       "    <tr>\n",
       "      <th>0</th>\n",
       "      <td>4.0</td>\n",
       "      <td>4.0</td>\n",
       "      <td>None</td>\n",
       "      <td>None</td>\n",
       "      <td>POINT (4.00000 4.00000)</td>\n",
       "    </tr>\n",
       "    <tr>\n",
       "      <th>0</th>\n",
       "      <td>-1.0</td>\n",
       "      <td>-1.0</td>\n",
       "      <td>None</td>\n",
       "      <td>None</td>\n",
       "      <td>POINT (-1.00000 -1.00000)</td>\n",
       "    </tr>\n",
       "    <tr>\n",
       "      <th>0</th>\n",
       "      <td>8.0</td>\n",
       "      <td>8.0</td>\n",
       "      <td>None</td>\n",
       "      <td>None</td>\n",
       "      <td>POINT (8.00000 8.00000)</td>\n",
       "    </tr>\n",
       "  </tbody>\n",
       "</table>\n",
       "</div>"
      ],
      "text/plain": [
       "     x    y     z   crs                   geometry\n",
       "0  1.0  1.0  None  None    POINT (1.00000 1.00000)\n",
       "0  2.0  1.0  None  None    POINT (2.00000 1.00000)\n",
       "0  1.0  2.0  None  None    POINT (1.00000 2.00000)\n",
       "0  2.0  2.0  None  None    POINT (2.00000 2.00000)\n",
       "0  4.0  4.0  None  None    POINT (4.00000 4.00000)\n",
       "0 -1.0 -1.0  None  None  POINT (-1.00000 -1.00000)\n",
       "0  8.0  8.0  None  None    POINT (8.00000 8.00000)"
      ]
     },
     "execution_count": 5,
     "metadata": {},
     "output_type": "execute_result"
    }
   ],
   "source": [
    "xu = [1,2,1,2,4,-1,8]\n",
    "yu = [1,1,2,2,4,-1,8]\n",
    "dfu = pd.DataFrame({\"x\":xu,\"y\":yu})\n",
    "cpu = CloudPoints().from_df(dfu, x='x',y='y')\n",
    "cpu.df()"
   ]
  },
  {
   "cell_type": "code",
   "execution_count": 6,
   "metadata": {},
   "outputs": [
    {
     "data": {
      "text/plain": [
       "<AxesSubplot:>"
      ]
     },
     "execution_count": 6,
     "metadata": {},
     "output_type": "execute_result"
    },
    {
     "data": {
      "image/png": "[encoded data removed]",
      "text/plain": [
       "<Figure size 432x288 with 1 Axes>"
      ]
     },
     "metadata": {
      "needs_background": "light"
     },
     "output_type": "display_data"
    }
   ],
   "source": [
    "s = Exponential(\n",
    "    sill = 4.,\n",
    "    range = 2,\n",
    "    nugget = 0.\n",
    ")\n",
    "\n",
    "s.plot(np.linspace(0,50,50))"
   ]
  },
  {
   "cell_type": "code",
   "execution_count": 7,
   "metadata": {},
   "outputs": [
    {
     "data": {
      "text/plain": [
       "<AxesSubplot:xlabel='x', ylabel='y'>"
      ]
     },
     "execution_count": 7,
     "metadata": {},
     "output_type": "execute_result"
    },
    {
     "data": {
      "image/png": "[encoded data removed]",
      "text/plain": [
       "<Figure size 432x288 with 1 Axes>"
      ]
     },
     "metadata": {
      "needs_background": "light"
     },
     "output_type": "display_data"
    }
   ],
   "source": [
    "wm = s.ordinary_kriging(cp,cpu,v='v')\n",
    "\n",
    "wm.plot(hue='v')"
   ]
  },
  {
   "cell_type": "code",
   "execution_count": 8,
   "metadata": {},
   "outputs": [
    {
     "data": {
      "text/plain": [
       "<AxesSubplot:xlabel='x', ylabel='y'>"
      ]
     },
     "execution_count": 8,
     "metadata": {},
     "output_type": "execute_result"
    },
    {
     "data": {
      "image/png": "[encoded data removed]",
      "text/plain": [
       "<Figure size 432x288 with 1 Axes>"
      ]
     },
     "metadata": {
      "needs_background": "light"
     },
     "output_type": "display_data"
    }
   ],
   "source": [
    "xn = np.linspace(0,2,20)\n",
    "yn = np.linspace(0,2,20)\n",
    "\n",
    "xx, yy = np.meshgrid(xn, yn)\n",
    "\n",
    "dfun = pd.DataFrame({\"x\":xx.flatten(order='F'),\"y\":yy.flatten(order='F')})\n",
    "cp2 = CloudPoints().from_df(dfun, x='x',y='y')\n",
    "wm = s.ordinary_kriging(cp,cp2,v='v')\n",
    "\n",
    "wm.plot(hue='v')"
   ]
  },
  {
   "cell_type": "code",
   "execution_count": 9,
   "metadata": {},
   "outputs": [
    {
     "name": "stderr",
     "output_type": "stream",
     "text": [
      "/var/folders/j7/nzf005ss2p30clvcx2r21ppm0000gn/T/ipykernel_49576/2412108842.py:3: MatplotlibDeprecationWarning: shading='flat' when X and Y have the same dimensions as C is deprecated since 3.3.  Either specify the corners of the quadrilaterals with X and Y, or pass shading='auto', 'nearest' or 'gouraud', or set rcParams['pcolor.shading'].  This will become an error two minor releases later.\n",
      "  d = ax.pcolormesh(xx,yy,vn)\n"
     ]
    },
    {
     "data": {
      "text/plain": [
       "<AxesSubplot:xlabel='x', ylabel='y'>"
      ]
     },
     "execution_count": 9,
     "metadata": {},
     "output_type": "execute_result"
    },
    {
     "data": {
      "image/png": "[encoded data removed]",
      "text/plain": [
       "<Figure size 720x720 with 2 Axes>"
      ]
     },
     "metadata": {
      "needs_background": "light"
     },
     "output_type": "display_data"
    }
   ],
   "source": [
    "vn = wm.df()['v'].values.reshape((20,20),order='F')\n",
    "fig, ax = plt.subplots(figsize=(10,10))\n",
    "d = ax.pcolormesh(xx,yy,vn)\n",
    "plt.colorbar(d)\n",
    "cp.plot(ax=ax,hue='v', s=100, palette='viridis')"
   ]
  },
  {
   "cell_type": "code",
   "execution_count": 10,
   "metadata": {},
   "outputs": [
    {
     "data": {
      "text/html": [
       "<div>\n",
       "<style scoped>\n",
       "    .dataframe tbody tr th:only-of-type {\n",
       "        vertical-align: middle;\n",
       "    }\n",
       "\n",
       "    .dataframe tbody tr th {\n",
       "        vertical-align: top;\n",
       "    }\n",
       "\n",
       "    .dataframe thead th {\n",
       "        text-align: right;\n",
       "    }\n",
       "</style>\n",
       "<table border=\"1\" class=\"dataframe\">\n",
       "  <thead>\n",
       "    <tr style=\"text-align: right;\">\n",
       "      <th></th>\n",
       "      <th>x</th>\n",
       "      <th>y</th>\n",
       "      <th>z</th>\n",
       "      <th>crs</th>\n",
       "      <th>v</th>\n",
       "      <th>v_variance</th>\n",
       "      <th>geometry</th>\n",
       "    </tr>\n",
       "  </thead>\n",
       "  <tbody>\n",
       "    <tr>\n",
       "      <th>0</th>\n",
       "      <td>0.0</td>\n",
       "      <td>0.000000</td>\n",
       "      <td>None</td>\n",
       "      <td>None</td>\n",
       "      <td>1.000000</td>\n",
       "      <td>0.000000e+00</td>\n",
       "      <td>POINT (0.00000 0.00000)</td>\n",
       "    </tr>\n",
       "    <tr>\n",
       "      <th>0</th>\n",
       "      <td>0.0</td>\n",
       "      <td>0.105263</td>\n",
       "      <td>None</td>\n",
       "      <td>None</td>\n",
       "      <td>1.441686</td>\n",
       "      <td>3.719840e-01</td>\n",
       "      <td>POINT (0.00000 0.10526)</td>\n",
       "    </tr>\n",
       "    <tr>\n",
       "      <th>0</th>\n",
       "      <td>0.0</td>\n",
       "      <td>0.210526</td>\n",
       "      <td>None</td>\n",
       "      <td>None</td>\n",
       "      <td>1.886225</td>\n",
       "      <td>6.504408e-01</td>\n",
       "      <td>POINT (0.00000 0.21053)</td>\n",
       "    </tr>\n",
       "    <tr>\n",
       "      <th>0</th>\n",
       "      <td>0.0</td>\n",
       "      <td>0.315789</td>\n",
       "      <td>None</td>\n",
       "      <td>None</td>\n",
       "      <td>2.331614</td>\n",
       "      <td>8.406637e-01</td>\n",
       "      <td>POINT (0.00000 0.31579)</td>\n",
       "    </tr>\n",
       "    <tr>\n",
       "      <th>0</th>\n",
       "      <td>0.0</td>\n",
       "      <td>0.421053</td>\n",
       "      <td>None</td>\n",
       "      <td>None</td>\n",
       "      <td>2.774926</td>\n",
       "      <td>9.459013e-01</td>\n",
       "      <td>POINT (0.00000 0.42105)</td>\n",
       "    </tr>\n",
       "    <tr>\n",
       "      <th>...</th>\n",
       "      <td>...</td>\n",
       "      <td>...</td>\n",
       "      <td>...</td>\n",
       "      <td>...</td>\n",
       "      <td>...</td>\n",
       "      <td>...</td>\n",
       "      <td>...</td>\n",
       "    </tr>\n",
       "    <tr>\n",
       "      <th>0</th>\n",
       "      <td>2.0</td>\n",
       "      <td>1.578947</td>\n",
       "      <td>None</td>\n",
       "      <td>None</td>\n",
       "      <td>20.812411</td>\n",
       "      <td>1.245866e+00</td>\n",
       "      <td>POINT (2.00000 1.57895)</td>\n",
       "    </tr>\n",
       "    <tr>\n",
       "      <th>0</th>\n",
       "      <td>2.0</td>\n",
       "      <td>1.684211</td>\n",
       "      <td>None</td>\n",
       "      <td>None</td>\n",
       "      <td>22.269877</td>\n",
       "      <td>1.010257e+00</td>\n",
       "      <td>POINT (2.00000 1.68421)</td>\n",
       "    </tr>\n",
       "    <tr>\n",
       "      <th>0</th>\n",
       "      <td>2.0</td>\n",
       "      <td>1.789474</td>\n",
       "      <td>None</td>\n",
       "      <td>None</td>\n",
       "      <td>23.784459</td>\n",
       "      <td>7.266798e-01</td>\n",
       "      <td>POINT (2.00000 1.78947)</td>\n",
       "    </tr>\n",
       "    <tr>\n",
       "      <th>0</th>\n",
       "      <td>2.0</td>\n",
       "      <td>1.894737</td>\n",
       "      <td>None</td>\n",
       "      <td>None</td>\n",
       "      <td>25.359879</td>\n",
       "      <td>3.913852e-01</td>\n",
       "      <td>POINT (2.00000 1.89474)</td>\n",
       "    </tr>\n",
       "    <tr>\n",
       "      <th>0</th>\n",
       "      <td>2.0</td>\n",
       "      <td>2.000000</td>\n",
       "      <td>None</td>\n",
       "      <td>None</td>\n",
       "      <td>27.000000</td>\n",
       "      <td>-8.881784e-16</td>\n",
       "      <td>POINT (2.00000 2.00000)</td>\n",
       "    </tr>\n",
       "  </tbody>\n",
       "</table>\n",
       "<p>400 rows × 7 columns</p>\n",
       "</div>"
      ],
      "text/plain": [
       "      x         y     z   crs          v    v_variance  \\\n",
       "0   0.0  0.000000  None  None   1.000000  0.000000e+00   \n",
       "0   0.0  0.105263  None  None   1.441686  3.719840e-01   \n",
       "0   0.0  0.210526  None  None   1.886225  6.504408e-01   \n",
       "0   0.0  0.315789  None  None   2.331614  8.406637e-01   \n",
       "0   0.0  0.421053  None  None   2.774926  9.459013e-01   \n",
       "..  ...       ...   ...   ...        ...           ...   \n",
       "0   2.0  1.578947  None  None  20.812411  1.245866e+00   \n",
       "0   2.0  1.684211  None  None  22.269877  1.010257e+00   \n",
       "0   2.0  1.789474  None  None  23.784459  7.266798e-01   \n",
       "0   2.0  1.894737  None  None  25.359879  3.913852e-01   \n",
       "0   2.0  2.000000  None  None  27.000000 -8.881784e-16   \n",
       "\n",
       "                   geometry  \n",
       "0   POINT (0.00000 0.00000)  \n",
       "0   POINT (0.00000 0.10526)  \n",
       "0   POINT (0.00000 0.21053)  \n",
       "0   POINT (0.00000 0.31579)  \n",
       "0   POINT (0.00000 0.42105)  \n",
       "..                      ...  \n",
       "0   POINT (2.00000 1.57895)  \n",
       "0   POINT (2.00000 1.68421)  \n",
       "0   POINT (2.00000 1.78947)  \n",
       "0   POINT (2.00000 1.89474)  \n",
       "0   POINT (2.00000 2.00000)  \n",
       "\n",
       "[400 rows x 7 columns]"
      ]
     },
     "execution_count": 10,
     "metadata": {},
     "output_type": "execute_result"
    }
   ],
   "source": [
    "wm.df()"
   ]
  }
 ],
 "metadata": {
  "interpreter": {
   "hash": "4fd186ed6b737b57cad5eac0f65cfc44cdfbe03b00597f7cf0d964c404ef24fb"
  },
  "kernelspec": {
   "display_name": "Python 3.8.12 64-bit ('volumetricspy': conda)",
   "language": "python",
   "name": "python3"
  },
  "language_info": {
   "codemirror_mode": {
    "name": "ipython",
    "version": 3
   },
   "file_extension": ".py",
   "mimetype": "text/x-python",
   "name": "python",
   "nbconvert_exporter": "python",
   "pygments_lexer": "ipython3",
   "version": "3.8.12"
  },
  "orig_nbformat": 4
 },
 "nbformat": 4,
 "nbformat_minor": 2
}
