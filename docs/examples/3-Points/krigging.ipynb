{
 "cells": [
  {
   "cell_type": "code",
   "execution_count": 1,
   "metadata": {},
   "outputs": [],
   "source": [
    "# Krigging"
   ]
  },
  {
   "cell_type": "code",
   "execution_count": 2,
   "metadata": {},
   "outputs": [],
   "source": [
    "from volumetricspy.stats import Dot,CloudPoints, Exponential, NScaler\n",
    "import pandas as pd\n",
    "import numpy as np\n",
    "import geopandas as gpd\n",
    "import matplotlib.pyplot as plt\n",
    "import seaborn as sns\n",
    "from scipy.spatial import distance_matrix"
   ]
  },
  {
   "cell_type": "code",
   "execution_count": 3,
   "metadata": {},
   "outputs": [
    {
     "data": {
      "text/html": [
       "<div>\n",
       "<style scoped>\n",
       "    .dataframe tbody tr th:only-of-type {\n",
       "        vertical-align: middle;\n",
       "    }\n",
       "\n",
       "    .dataframe tbody tr th {\n",
       "        vertical-align: top;\n",
       "    }\n",
       "\n",
       "    .dataframe thead th {\n",
       "        text-align: right;\n",
       "    }\n",
       "</style>\n",
       "<table border=\"1\" class=\"dataframe\">\n",
       "  <thead>\n",
       "    <tr style=\"text-align: right;\">\n",
       "      <th></th>\n",
       "      <th>x</th>\n",
       "      <th>y</th>\n",
       "      <th>z</th>\n",
       "      <th>crs</th>\n",
       "      <th>v</th>\n",
       "      <th>geometry</th>\n",
       "    </tr>\n",
       "  </thead>\n",
       "  <tbody>\n",
       "    <tr>\n",
       "      <th>0</th>\n",
       "      <td>0.0</td>\n",
       "      <td>0.0</td>\n",
       "      <td>None</td>\n",
       "      <td>None</td>\n",
       "      <td>1.0</td>\n",
       "      <td>POINT (0.00000 0.00000)</td>\n",
       "    </tr>\n",
       "    <tr>\n",
       "      <th>0</th>\n",
       "      <td>1.0</td>\n",
       "      <td>0.0</td>\n",
       "      <td>None</td>\n",
       "      <td>None</td>\n",
       "      <td>2.0</td>\n",
       "      <td>POINT (1.00000 0.00000)</td>\n",
       "    </tr>\n",
       "    <tr>\n",
       "      <th>0</th>\n",
       "      <td>2.0</td>\n",
       "      <td>0.0</td>\n",
       "      <td>None</td>\n",
       "      <td>None</td>\n",
       "      <td>4.0</td>\n",
       "      <td>POINT (2.00000 0.00000)</td>\n",
       "    </tr>\n",
       "    <tr>\n",
       "      <th>0</th>\n",
       "      <td>0.0</td>\n",
       "      <td>1.0</td>\n",
       "      <td>None</td>\n",
       "      <td>None</td>\n",
       "      <td>5.0</td>\n",
       "      <td>POINT (0.00000 1.00000)</td>\n",
       "    </tr>\n",
       "    <tr>\n",
       "      <th>0</th>\n",
       "      <td>0.0</td>\n",
       "      <td>2.0</td>\n",
       "      <td>None</td>\n",
       "      <td>None</td>\n",
       "      <td>6.0</td>\n",
       "      <td>POINT (0.00000 2.00000)</td>\n",
       "    </tr>\n",
       "    <tr>\n",
       "      <th>0</th>\n",
       "      <td>2.0</td>\n",
       "      <td>2.0</td>\n",
       "      <td>None</td>\n",
       "      <td>None</td>\n",
       "      <td>27.0</td>\n",
       "      <td>POINT (2.00000 2.00000)</td>\n",
       "    </tr>\n",
       "  </tbody>\n",
       "</table>\n",
       "</div>"
      ],
      "text/plain": [
       "     x    y     z   crs     v                 geometry\n",
       "0  0.0  0.0  None  None   1.0  POINT (0.00000 0.00000)\n",
       "0  1.0  0.0  None  None   2.0  POINT (1.00000 0.00000)\n",
       "0  2.0  0.0  None  None   4.0  POINT (2.00000 0.00000)\n",
       "0  0.0  1.0  None  None   5.0  POINT (0.00000 1.00000)\n",
       "0  0.0  2.0  None  None   6.0  POINT (0.00000 2.00000)\n",
       "0  2.0  2.0  None  None  27.0  POINT (2.00000 2.00000)"
      ]
     },
     "execution_count": 3,
     "metadata": {},
     "output_type": "execute_result"
    }
   ],
   "source": [
    "x = [0,1,2,0,0,2]\n",
    "y = [0,0,0,1,2,2]\n",
    "v = [1,2,4,5,6,27]\n",
    "\n",
    "dfp = pd.DataFrame({\"x\":x,\"y\":y,\"v\":v})\n",
    "\n",
    "cp = CloudPoints().from_df(dfp, x='x',y='y',fields=['v'])\n",
    "cp.df()"
   ]
  },
  {
   "cell_type": "code",
   "execution_count": 4,
   "metadata": {},
   "outputs": [
    {
     "data": {
      "text/plain": [
       "<AxesSubplot:xlabel='x', ylabel='y'>"
      ]
     },
     "execution_count": 4,
     "metadata": {},
     "output_type": "execute_result"
    },
    {
     "data": {
      "image/png": "[encoded data removed]",
      "text/plain": [
       "<Figure size 432x288 with 1 Axes>"
      ]
     },
     "metadata": {
      "needs_background": "light"
     },
     "output_type": "display_data"
    }
   ],
   "source": [
    "cp.plot(hue='v')"
   ]
  },
  {
   "cell_type": "code",
   "execution_count": 5,
   "metadata": {},
   "outputs": [
    {
     "data": {
      "text/html": [
       "<div>\n",
       "<style scoped>\n",
       "    .dataframe tbody tr th:only-of-type {\n",
       "        vertical-align: middle;\n",
       "    }\n",
       "\n",
       "    .dataframe tbody tr th {\n",
       "        vertical-align: top;\n",
       "    }\n",
       "\n",
       "    .dataframe thead th {\n",
       "        text-align: right;\n",
       "    }\n",
       "</style>\n",
       "<table border=\"1\" class=\"dataframe\">\n",
       "  <thead>\n",
       "    <tr style=\"text-align: right;\">\n",
       "      <th></th>\n",
       "      <th>x</th>\n",
       "      <th>y</th>\n",
       "      <th>z</th>\n",
       "      <th>crs</th>\n",
       "      <th>geometry</th>\n",
       "    </tr>\n",
       "  </thead>\n",
       "  <tbody>\n",
       "    <tr>\n",
       "      <th>0</th>\n",
       "      <td>1.0</td>\n",
       "      <td>1.0</td>\n",
       "      <td>None</td>\n",
       "      <td>None</td>\n",
       "      <td>POINT (1.00000 1.00000)</td>\n",
       "    </tr>\n",
       "    <tr>\n",
       "      <th>0</th>\n",
       "      <td>2.0</td>\n",
       "      <td>1.0</td>\n",
       "      <td>None</td>\n",
       "      <td>None</td>\n",
       "      <td>POINT (2.00000 1.00000)</td>\n",
       "    </tr>\n",
       "    <tr>\n",
       "      <th>0</th>\n",
       "      <td>1.0</td>\n",
       "      <td>2.0</td>\n",
       "      <td>None</td>\n",
       "      <td>None</td>\n",
       "      <td>POINT (1.00000 2.00000)</td>\n",
       "    </tr>\n",
       "    <tr>\n",
       "      <th>0</th>\n",
       "      <td>2.0</td>\n",
       "      <td>2.0</td>\n",
       "      <td>None</td>\n",
       "      <td>None</td>\n",
       "      <td>POINT (2.00000 2.00000)</td>\n",
       "    </tr>\n",
       "    <tr>\n",
       "      <th>0</th>\n",
       "      <td>4.0</td>\n",
       "      <td>4.0</td>\n",
       "      <td>None</td>\n",
       "      <td>None</td>\n",
       "      <td>POINT (4.00000 4.00000)</td>\n",
       "    </tr>\n",
       "    <tr>\n",
       "      <th>0</th>\n",
       "      <td>-1.0</td>\n",
       "      <td>-1.0</td>\n",
       "      <td>None</td>\n",
       "      <td>None</td>\n",
       "      <td>POINT (-1.00000 -1.00000)</td>\n",
       "    </tr>\n",
       "    <tr>\n",
       "      <th>0</th>\n",
       "      <td>8.0</td>\n",
       "      <td>8.0</td>\n",
       "      <td>None</td>\n",
       "      <td>None</td>\n",
       "      <td>POINT (8.00000 8.00000)</td>\n",
       "    </tr>\n",
       "  </tbody>\n",
       "</table>\n",
       "</div>"
      ],
      "text/plain": [
       "     x    y     z   crs                   geometry\n",
       "0  1.0  1.0  None  None    POINT (1.00000 1.00000)\n",
       "0  2.0  1.0  None  None    POINT (2.00000 1.00000)\n",
       "0  1.0  2.0  None  None    POINT (1.00000 2.00000)\n",
       "0  2.0  2.0  None  None    POINT (2.00000 2.00000)\n",
       "0  4.0  4.0  None  None    POINT (4.00000 4.00000)\n",
       "0 -1.0 -1.0  None  None  POINT (-1.00000 -1.00000)\n",
       "0  8.0  8.0  None  None    POINT (8.00000 8.00000)"
      ]
     },
     "execution_count": 5,
     "metadata": {},
     "output_type": "execute_result"
    }
   ],
   "source": [
    "xu = [1,2,1,2,4,-1,8]\n",
    "yu = [1,1,2,2,4,-1,8]\n",
    "dfu = pd.DataFrame({\"x\":xu,\"y\":yu})\n",
    "cpu = CloudPoints().from_df(dfu, x='x',y='y')\n",
    "cpu.df()"
   ]
  },
  {
   "cell_type": "code",
   "execution_count": 6,
   "metadata": {},
   "outputs": [
    {
     "data": {
      "text/plain": [
       "<AxesSubplot:>"
      ]
     },
     "execution_count": 6,
     "metadata": {},
     "output_type": "execute_result"
    },
    {
     "data": {
      "image/png": "[encoded data removed]",
      "text/plain": [
       "<Figure size 432x288 with 1 Axes>"
      ]
     },
     "metadata": {
      "needs_background": "light"
     },
     "output_type": "display_data"
    }
   ],
   "source": [
    "s = Exponential(\n",
    "    sill = 4.,\n",
    "    range = 2,\n",
    "    nugget = 0.\n",
    ")\n",
    "\n",
    "s.plot(np.linspace(0,50,50))"
   ]
  },
  {
   "cell_type": "code",
   "execution_count": 7,
   "metadata": {},
   "outputs": [
    {
     "data": {
      "text/plain": [
       "<AxesSubplot:xlabel='x', ylabel='y'>"
      ]
     },
     "execution_count": 7,
     "metadata": {},
     "output_type": "execute_result"
    },
    {
     "data": {
      "image/png": "[encoded data removed]",
      "text/plain": [
       "<Figure size 432x288 with 1 Axes>"
      ]
     },
     "metadata": {
      "needs_background": "light"
     },
     "output_type": "display_data"
    }
   ],
   "source": [
    "wm = s.ordinary_kriging(cp,cpu,v='v')\n",
    "\n",
    "wm.plot('v')"
   ]
  },
  {
   "cell_type": "code",
   "execution_count": 8,
   "metadata": {},
   "outputs": [
    {
     "name": "stderr",
     "output_type": "stream",
     "text": [
      "/Users/scuervo91/Documents/dev/volumetricspy/volumetricspy/stats/points.py:163: MatplotlibDeprecationWarning: shading='flat' when X and Y have the same dimensions as C is deprecated since 3.3.  Either specify the corners of the quadrilaterals with X and Y, or pass shading='auto', 'nearest' or 'gouraud', or set rcParams['pcolor.shading'].  This will become an error two minor releases later.\n",
      "  d = ax.pcolormesh(xx,yy,df.values, **kwargs)\n"
     ]
    },
    {
     "data": {
      "text/plain": [
       "<AxesSubplot:xlabel='x', ylabel='y'>"
      ]
     },
     "execution_count": 8,
     "metadata": {},
     "output_type": "execute_result"
    },
    {
     "data": {
      "image/png": "[encoded data removed]",
      "text/plain": [
       "<Figure size 432x288 with 2 Axes>"
      ]
     },
     "metadata": {
      "needs_background": "light"
     },
     "output_type": "display_data"
    }
   ],
   "source": [
    "xn = np.linspace(0,2,20)\n",
    "yn = np.linspace(0,2,20)\n",
    "\n",
    "xx, yy = np.meshgrid(xn, yn)\n",
    "\n",
    "dfun = pd.DataFrame({\"x\":xx.flatten(order='F'),\"y\":yy.flatten(order='F')})\n",
    "cp2 = CloudPoints().from_df(dfun, x='x',y='y')\n",
    "wm = s.ordinary_kriging(cp,cp2,v='v')\n",
    "\n",
    "wm.plot_mesh('v')\n",
    "cp.plot(hue='v')"
   ]
  },
  {
   "cell_type": "code",
   "execution_count": 9,
   "metadata": {},
   "outputs": [
    {
     "data": {
      "text/html": [
       "<div>\n",
       "<style scoped>\n",
       "    .dataframe tbody tr th:only-of-type {\n",
       "        vertical-align: middle;\n",
       "    }\n",
       "\n",
       "    .dataframe tbody tr th {\n",
       "        vertical-align: top;\n",
       "    }\n",
       "\n",
       "    .dataframe thead th {\n",
       "        text-align: right;\n",
       "    }\n",
       "</style>\n",
       "<table border=\"1\" class=\"dataframe\">\n",
       "  <thead>\n",
       "    <tr style=\"text-align: right;\">\n",
       "      <th></th>\n",
       "      <th>x</th>\n",
       "      <th>y</th>\n",
       "      <th>z</th>\n",
       "      <th>crs</th>\n",
       "      <th>v</th>\n",
       "      <th>v_variance</th>\n",
       "      <th>geometry</th>\n",
       "    </tr>\n",
       "  </thead>\n",
       "  <tbody>\n",
       "    <tr>\n",
       "      <th>0</th>\n",
       "      <td>0.0</td>\n",
       "      <td>0.000000</td>\n",
       "      <td>None</td>\n",
       "      <td>None</td>\n",
       "      <td>1.000000</td>\n",
       "      <td>0.000000e+00</td>\n",
       "      <td>POINT (0.00000 0.00000)</td>\n",
       "    </tr>\n",
       "    <tr>\n",
       "      <th>0</th>\n",
       "      <td>0.0</td>\n",
       "      <td>0.105263</td>\n",
       "      <td>None</td>\n",
       "      <td>None</td>\n",
       "      <td>1.441686</td>\n",
       "      <td>3.719840e-01</td>\n",
       "      <td>POINT (0.00000 0.10526)</td>\n",
       "    </tr>\n",
       "    <tr>\n",
       "      <th>0</th>\n",
       "      <td>0.0</td>\n",
       "      <td>0.210526</td>\n",
       "      <td>None</td>\n",
       "      <td>None</td>\n",
       "      <td>1.886225</td>\n",
       "      <td>6.504408e-01</td>\n",
       "      <td>POINT (0.00000 0.21053)</td>\n",
       "    </tr>\n",
       "    <tr>\n",
       "      <th>0</th>\n",
       "      <td>0.0</td>\n",
       "      <td>0.315789</td>\n",
       "      <td>None</td>\n",
       "      <td>None</td>\n",
       "      <td>2.331614</td>\n",
       "      <td>8.406637e-01</td>\n",
       "      <td>POINT (0.00000 0.31579)</td>\n",
       "    </tr>\n",
       "    <tr>\n",
       "      <th>0</th>\n",
       "      <td>0.0</td>\n",
       "      <td>0.421053</td>\n",
       "      <td>None</td>\n",
       "      <td>None</td>\n",
       "      <td>2.774926</td>\n",
       "      <td>9.459013e-01</td>\n",
       "      <td>POINT (0.00000 0.42105)</td>\n",
       "    </tr>\n",
       "    <tr>\n",
       "      <th>...</th>\n",
       "      <td>...</td>\n",
       "      <td>...</td>\n",
       "      <td>...</td>\n",
       "      <td>...</td>\n",
       "      <td>...</td>\n",
       "      <td>...</td>\n",
       "      <td>...</td>\n",
       "    </tr>\n",
       "    <tr>\n",
       "      <th>0</th>\n",
       "      <td>2.0</td>\n",
       "      <td>1.578947</td>\n",
       "      <td>None</td>\n",
       "      <td>None</td>\n",
       "      <td>20.812411</td>\n",
       "      <td>1.245866e+00</td>\n",
       "      <td>POINT (2.00000 1.57895)</td>\n",
       "    </tr>\n",
       "    <tr>\n",
       "      <th>0</th>\n",
       "      <td>2.0</td>\n",
       "      <td>1.684211</td>\n",
       "      <td>None</td>\n",
       "      <td>None</td>\n",
       "      <td>22.269877</td>\n",
       "      <td>1.010257e+00</td>\n",
       "      <td>POINT (2.00000 1.68421)</td>\n",
       "    </tr>\n",
       "    <tr>\n",
       "      <th>0</th>\n",
       "      <td>2.0</td>\n",
       "      <td>1.789474</td>\n",
       "      <td>None</td>\n",
       "      <td>None</td>\n",
       "      <td>23.784459</td>\n",
       "      <td>7.266798e-01</td>\n",
       "      <td>POINT (2.00000 1.78947)</td>\n",
       "    </tr>\n",
       "    <tr>\n",
       "      <th>0</th>\n",
       "      <td>2.0</td>\n",
       "      <td>1.894737</td>\n",
       "      <td>None</td>\n",
       "      <td>None</td>\n",
       "      <td>25.359879</td>\n",
       "      <td>3.913852e-01</td>\n",
       "      <td>POINT (2.00000 1.89474)</td>\n",
       "    </tr>\n",
       "    <tr>\n",
       "      <th>0</th>\n",
       "      <td>2.0</td>\n",
       "      <td>2.000000</td>\n",
       "      <td>None</td>\n",
       "      <td>None</td>\n",
       "      <td>27.000000</td>\n",
       "      <td>-8.881784e-16</td>\n",
       "      <td>POINT (2.00000 2.00000)</td>\n",
       "    </tr>\n",
       "  </tbody>\n",
       "</table>\n",
       "<p>400 rows × 7 columns</p>\n",
       "</div>"
      ],
      "text/plain": [
       "      x         y     z   crs          v    v_variance  \\\n",
       "0   0.0  0.000000  None  None   1.000000  0.000000e+00   \n",
       "0   0.0  0.105263  None  None   1.441686  3.719840e-01   \n",
       "0   0.0  0.210526  None  None   1.886225  6.504408e-01   \n",
       "0   0.0  0.315789  None  None   2.331614  8.406637e-01   \n",
       "0   0.0  0.421053  None  None   2.774926  9.459013e-01   \n",
       "..  ...       ...   ...   ...        ...           ...   \n",
       "0   2.0  1.578947  None  None  20.812411  1.245866e+00   \n",
       "0   2.0  1.684211  None  None  22.269877  1.010257e+00   \n",
       "0   2.0  1.789474  None  None  23.784459  7.266798e-01   \n",
       "0   2.0  1.894737  None  None  25.359879  3.913852e-01   \n",
       "0   2.0  2.000000  None  None  27.000000 -8.881784e-16   \n",
       "\n",
       "                   geometry  \n",
       "0   POINT (0.00000 0.00000)  \n",
       "0   POINT (0.00000 0.10526)  \n",
       "0   POINT (0.00000 0.21053)  \n",
       "0   POINT (0.00000 0.31579)  \n",
       "0   POINT (0.00000 0.42105)  \n",
       "..                      ...  \n",
       "0   POINT (2.00000 1.57895)  \n",
       "0   POINT (2.00000 1.68421)  \n",
       "0   POINT (2.00000 1.78947)  \n",
       "0   POINT (2.00000 1.89474)  \n",
       "0   POINT (2.00000 2.00000)  \n",
       "\n",
       "[400 rows x 7 columns]"
      ]
     },
     "execution_count": 9,
     "metadata": {},
     "output_type": "execute_result"
    }
   ],
   "source": [
    "wm.df()"
   ]
  },
  {
   "cell_type": "code",
   "execution_count": 10,
   "metadata": {},
   "outputs": [
    {
     "data": {
      "text/html": [
       "<div>\n",
       "<style scoped>\n",
       "    .dataframe tbody tr th:only-of-type {\n",
       "        vertical-align: middle;\n",
       "    }\n",
       "\n",
       "    .dataframe tbody tr th {\n",
       "        vertical-align: top;\n",
       "    }\n",
       "\n",
       "    .dataframe thead th {\n",
       "        text-align: right;\n",
       "    }\n",
       "</style>\n",
       "<table border=\"1\" class=\"dataframe\">\n",
       "  <thead>\n",
       "    <tr style=\"text-align: right;\">\n",
       "      <th></th>\n",
       "      <th>x</th>\n",
       "      <th>y</th>\n",
       "      <th>z</th>\n",
       "      <th>crs</th>\n",
       "      <th>Facies</th>\n",
       "      <th>Porosity</th>\n",
       "      <th>Perm</th>\n",
       "      <th>geometry</th>\n",
       "    </tr>\n",
       "  </thead>\n",
       "  <tbody>\n",
       "    <tr>\n",
       "      <th>0</th>\n",
       "      <td>100.0</td>\n",
       "      <td>900.0</td>\n",
       "      <td>None</td>\n",
       "      <td>None</td>\n",
       "      <td>1.0</td>\n",
       "      <td>0.115359</td>\n",
       "      <td>5.736104</td>\n",
       "      <td>POINT (100.000 900.000)</td>\n",
       "    </tr>\n",
       "    <tr>\n",
       "      <th>0</th>\n",
       "      <td>100.0</td>\n",
       "      <td>800.0</td>\n",
       "      <td>None</td>\n",
       "      <td>None</td>\n",
       "      <td>1.0</td>\n",
       "      <td>0.136425</td>\n",
       "      <td>17.211462</td>\n",
       "      <td>POINT (100.000 800.000)</td>\n",
       "    </tr>\n",
       "    <tr>\n",
       "      <th>0</th>\n",
       "      <td>100.0</td>\n",
       "      <td>600.0</td>\n",
       "      <td>None</td>\n",
       "      <td>None</td>\n",
       "      <td>1.0</td>\n",
       "      <td>0.135810</td>\n",
       "      <td>43.724752</td>\n",
       "      <td>POINT (100.000 600.000)</td>\n",
       "    </tr>\n",
       "    <tr>\n",
       "      <th>0</th>\n",
       "      <td>100.0</td>\n",
       "      <td>500.0</td>\n",
       "      <td>None</td>\n",
       "      <td>None</td>\n",
       "      <td>0.0</td>\n",
       "      <td>0.094414</td>\n",
       "      <td>1.609942</td>\n",
       "      <td>POINT (100.000 500.000)</td>\n",
       "    </tr>\n",
       "    <tr>\n",
       "      <th>0</th>\n",
       "      <td>100.0</td>\n",
       "      <td>100.0</td>\n",
       "      <td>None</td>\n",
       "      <td>None</td>\n",
       "      <td>0.0</td>\n",
       "      <td>0.113049</td>\n",
       "      <td>10.886001</td>\n",
       "      <td>POINT (100.000 100.000)</td>\n",
       "    </tr>\n",
       "    <tr>\n",
       "      <th>...</th>\n",
       "      <td>...</td>\n",
       "      <td>...</td>\n",
       "      <td>...</td>\n",
       "      <td>...</td>\n",
       "      <td>...</td>\n",
       "      <td>...</td>\n",
       "      <td>...</td>\n",
       "      <td>...</td>\n",
       "    </tr>\n",
       "    <tr>\n",
       "      <th>0</th>\n",
       "      <td>190.0</td>\n",
       "      <td>199.0</td>\n",
       "      <td>None</td>\n",
       "      <td>None</td>\n",
       "      <td>1.0</td>\n",
       "      <td>0.109411</td>\n",
       "      <td>3.247265</td>\n",
       "      <td>POINT (190.000 199.000)</td>\n",
       "    </tr>\n",
       "    <tr>\n",
       "      <th>0</th>\n",
       "      <td>190.0</td>\n",
       "      <td>419.0</td>\n",
       "      <td>None</td>\n",
       "      <td>None</td>\n",
       "      <td>0.0</td>\n",
       "      <td>0.099541</td>\n",
       "      <td>1.528003</td>\n",
       "      <td>POINT (190.000 419.000)</td>\n",
       "    </tr>\n",
       "    <tr>\n",
       "      <th>0</th>\n",
       "      <td>920.0</td>\n",
       "      <td>379.0</td>\n",
       "      <td>None</td>\n",
       "      <td>None</td>\n",
       "      <td>0.0</td>\n",
       "      <td>0.094099</td>\n",
       "      <td>2.514597</td>\n",
       "      <td>POINT (920.000 379.000)</td>\n",
       "    </tr>\n",
       "    <tr>\n",
       "      <th>0</th>\n",
       "      <td>60.0</td>\n",
       "      <td>149.0</td>\n",
       "      <td>None</td>\n",
       "      <td>None</td>\n",
       "      <td>0.0</td>\n",
       "      <td>0.100167</td>\n",
       "      <td>3.636854</td>\n",
       "      <td>POINT (60.000 149.000)</td>\n",
       "    </tr>\n",
       "    <tr>\n",
       "      <th>0</th>\n",
       "      <td>390.0</td>\n",
       "      <td>549.0</td>\n",
       "      <td>None</td>\n",
       "      <td>None</td>\n",
       "      <td>1.0</td>\n",
       "      <td>0.153335</td>\n",
       "      <td>165.699353</td>\n",
       "      <td>POINT (390.000 549.000)</td>\n",
       "    </tr>\n",
       "  </tbody>\n",
       "</table>\n",
       "<p>289 rows × 8 columns</p>\n",
       "</div>"
      ],
      "text/plain": [
       "        x      y     z   crs  Facies  Porosity        Perm  \\\n",
       "0   100.0  900.0  None  None     1.0  0.115359    5.736104   \n",
       "0   100.0  800.0  None  None     1.0  0.136425   17.211462   \n",
       "0   100.0  600.0  None  None     1.0  0.135810   43.724752   \n",
       "0   100.0  500.0  None  None     0.0  0.094414    1.609942   \n",
       "0   100.0  100.0  None  None     0.0  0.113049   10.886001   \n",
       "..    ...    ...   ...   ...     ...       ...         ...   \n",
       "0   190.0  199.0  None  None     1.0  0.109411    3.247265   \n",
       "0   190.0  419.0  None  None     0.0  0.099541    1.528003   \n",
       "0   920.0  379.0  None  None     0.0  0.094099    2.514597   \n",
       "0    60.0  149.0  None  None     0.0  0.100167    3.636854   \n",
       "0   390.0  549.0  None  None     1.0  0.153335  165.699353   \n",
       "\n",
       "                   geometry  \n",
       "0   POINT (100.000 900.000)  \n",
       "0   POINT (100.000 800.000)  \n",
       "0   POINT (100.000 600.000)  \n",
       "0   POINT (100.000 500.000)  \n",
       "0   POINT (100.000 100.000)  \n",
       "..                      ...  \n",
       "0   POINT (190.000 199.000)  \n",
       "0   POINT (190.000 419.000)  \n",
       "0   POINT (920.000 379.000)  \n",
       "0    POINT (60.000 149.000)  \n",
       "0   POINT (390.000 549.000)  \n",
       "\n",
       "[289 rows x 8 columns]"
      ]
     },
     "execution_count": 10,
     "metadata": {},
     "output_type": "execute_result"
    }
   ],
   "source": [
    "#df = pd.read_csv('sample_data_biased.csv')     # load our data table\n",
    "df2 = pd.read_csv('https://raw.githubusercontent.com/GeostatsGuy/GeoDataSets/master/sample_data_biased.csv')\n",
    "dcp2 = CloudPoints().from_df(df2, x='X',y='Y', fields=['Facies','Porosity','Perm'])\n",
    "dcp2.df()"
   ]
  },
  {
   "cell_type": "code",
   "execution_count": 11,
   "metadata": {},
   "outputs": [
    {
     "data": {
      "text/plain": [
       "<AxesSubplot:>"
      ]
     },
     "execution_count": 11,
     "metadata": {},
     "output_type": "execute_result"
    },
    {
     "data": {
      "image/png": "[encoded data removed]",
      "text/plain": [
       "<Figure size 432x288 with 1 Axes>"
      ]
     },
     "metadata": {
      "needs_background": "light"
     },
     "output_type": "display_data"
    }
   ],
   "source": [
    "s = Exponential(\n",
    "    sill = 1.,\n",
    "    range = 200,\n",
    "    nugget = 0.\n",
    ")\n",
    "\n",
    "s.plot(np.linspace(0,1000,50))"
   ]
  },
  {
   "cell_type": "code",
   "execution_count": 12,
   "metadata": {},
   "outputs": [
    {
     "data": {
      "text/html": [
       "<div>\n",
       "<style scoped>\n",
       "    .dataframe tbody tr th:only-of-type {\n",
       "        vertical-align: middle;\n",
       "    }\n",
       "\n",
       "    .dataframe tbody tr th {\n",
       "        vertical-align: top;\n",
       "    }\n",
       "\n",
       "    .dataframe thead th {\n",
       "        text-align: right;\n",
       "    }\n",
       "</style>\n",
       "<table border=\"1\" class=\"dataframe\">\n",
       "  <thead>\n",
       "    <tr style=\"text-align: right;\">\n",
       "      <th></th>\n",
       "      <th>x</th>\n",
       "      <th>y</th>\n",
       "      <th>Facies</th>\n",
       "      <th>Porosity</th>\n",
       "      <th>Perm</th>\n",
       "      <th>pnorm</th>\n",
       "    </tr>\n",
       "  </thead>\n",
       "  <tbody>\n",
       "    <tr>\n",
       "      <th>count</th>\n",
       "      <td>289.000000</td>\n",
       "      <td>289.000000</td>\n",
       "      <td>289.000000</td>\n",
       "      <td>289.000000</td>\n",
       "      <td>289.000000</td>\n",
       "      <td>289.000000</td>\n",
       "    </tr>\n",
       "    <tr>\n",
       "      <th>mean</th>\n",
       "      <td>475.813149</td>\n",
       "      <td>529.692042</td>\n",
       "      <td>0.813149</td>\n",
       "      <td>0.134744</td>\n",
       "      <td>207.832368</td>\n",
       "      <td>-0.005546</td>\n",
       "    </tr>\n",
       "    <tr>\n",
       "      <th>std</th>\n",
       "      <td>254.277530</td>\n",
       "      <td>300.895374</td>\n",
       "      <td>0.390468</td>\n",
       "      <td>0.037745</td>\n",
       "      <td>559.359350</td>\n",
       "      <td>1.064579</td>\n",
       "    </tr>\n",
       "    <tr>\n",
       "      <th>min</th>\n",
       "      <td>0.000000</td>\n",
       "      <td>9.000000</td>\n",
       "      <td>0.000000</td>\n",
       "      <td>0.058548</td>\n",
       "      <td>0.075819</td>\n",
       "      <td>-6.361341</td>\n",
       "    </tr>\n",
       "    <tr>\n",
       "      <th>25%</th>\n",
       "      <td>300.000000</td>\n",
       "      <td>269.000000</td>\n",
       "      <td>1.000000</td>\n",
       "      <td>0.106318</td>\n",
       "      <td>3.634086</td>\n",
       "      <td>-0.713471</td>\n",
       "    </tr>\n",
       "    <tr>\n",
       "      <th>50%</th>\n",
       "      <td>430.000000</td>\n",
       "      <td>549.000000</td>\n",
       "      <td>1.000000</td>\n",
       "      <td>0.126167</td>\n",
       "      <td>14.908970</td>\n",
       "      <td>-0.011715</td>\n",
       "    </tr>\n",
       "    <tr>\n",
       "      <th>75%</th>\n",
       "      <td>670.000000</td>\n",
       "      <td>819.000000</td>\n",
       "      <td>1.000000</td>\n",
       "      <td>0.154220</td>\n",
       "      <td>71.454424</td>\n",
       "      <td>0.683694</td>\n",
       "    </tr>\n",
       "    <tr>\n",
       "      <th>max</th>\n",
       "      <td>990.000000</td>\n",
       "      <td>999.000000</td>\n",
       "      <td>1.000000</td>\n",
       "      <td>0.228790</td>\n",
       "      <td>5308.842566</td>\n",
       "      <td>6.361341</td>\n",
       "    </tr>\n",
       "  </tbody>\n",
       "</table>\n",
       "</div>"
      ],
      "text/plain": [
       "                x           y      Facies    Porosity         Perm       pnorm\n",
       "count  289.000000  289.000000  289.000000  289.000000   289.000000  289.000000\n",
       "mean   475.813149  529.692042    0.813149    0.134744   207.832368   -0.005546\n",
       "std    254.277530  300.895374    0.390468    0.037745   559.359350    1.064579\n",
       "min      0.000000    9.000000    0.000000    0.058548     0.075819   -6.361341\n",
       "25%    300.000000  269.000000    1.000000    0.106318     3.634086   -0.713471\n",
       "50%    430.000000  549.000000    1.000000    0.126167    14.908970   -0.011715\n",
       "75%    670.000000  819.000000    1.000000    0.154220    71.454424    0.683694\n",
       "max    990.000000  999.000000    1.000000    0.228790  5308.842566    6.361341"
      ]
     },
     "execution_count": 12,
     "metadata": {},
     "output_type": "execute_result"
    }
   ],
   "source": [
    "sc = NScaler()\n",
    "sc.fit(dcp2.df()['Porosity'])\n",
    "pnorm = sc.transform(dcp2.df()['Porosity'])\n",
    "dcp2.add_field(pnorm, 'pnorm')\n",
    "dcp2.df().describe()"
   ]
  },
  {
   "cell_type": "code",
   "execution_count": 15,
   "metadata": {},
   "outputs": [
    {
     "data": {
      "text/html": [
       "<div>\n",
       "<style scoped>\n",
       "    .dataframe tbody tr th:only-of-type {\n",
       "        vertical-align: middle;\n",
       "    }\n",
       "\n",
       "    .dataframe tbody tr th {\n",
       "        vertical-align: top;\n",
       "    }\n",
       "\n",
       "    .dataframe thead th {\n",
       "        text-align: right;\n",
       "    }\n",
       "</style>\n",
       "<table border=\"1\" class=\"dataframe\">\n",
       "  <thead>\n",
       "    <tr style=\"text-align: right;\">\n",
       "      <th></th>\n",
       "      <th>x</th>\n",
       "      <th>y</th>\n",
       "      <th>z</th>\n",
       "      <th>crs</th>\n",
       "      <th>pnorm</th>\n",
       "      <th>pnorm_variance</th>\n",
       "      <th>geometry</th>\n",
       "      <th>porosity</th>\n",
       "    </tr>\n",
       "  </thead>\n",
       "  <tbody>\n",
       "    <tr>\n",
       "      <th>0</th>\n",
       "      <td>0.0</td>\n",
       "      <td>0.000000</td>\n",
       "      <td>None</td>\n",
       "      <td>None</td>\n",
       "      <td>-1.232367</td>\n",
       "      <td>0.380022</td>\n",
       "      <td>POINT (0.000 0.000)</td>\n",
       "      <td>0.094355</td>\n",
       "    </tr>\n",
       "    <tr>\n",
       "      <th>0</th>\n",
       "      <td>0.0</td>\n",
       "      <td>20.408163</td>\n",
       "      <td>None</td>\n",
       "      <td>None</td>\n",
       "      <td>-1.188025</td>\n",
       "      <td>0.282221</td>\n",
       "      <td>POINT (0.000 20.408)</td>\n",
       "      <td>0.095144</td>\n",
       "    </tr>\n",
       "    <tr>\n",
       "      <th>0</th>\n",
       "      <td>0.0</td>\n",
       "      <td>40.816327</td>\n",
       "      <td>None</td>\n",
       "      <td>None</td>\n",
       "      <td>-1.090841</td>\n",
       "      <td>0.209471</td>\n",
       "      <td>POINT (0.000 40.816)</td>\n",
       "      <td>0.097025</td>\n",
       "    </tr>\n",
       "    <tr>\n",
       "      <th>0</th>\n",
       "      <td>0.0</td>\n",
       "      <td>61.224490</td>\n",
       "      <td>None</td>\n",
       "      <td>None</td>\n",
       "      <td>-0.953954</td>\n",
       "      <td>0.161571</td>\n",
       "      <td>POINT (0.000 61.224)</td>\n",
       "      <td>0.100031</td>\n",
       "    </tr>\n",
       "    <tr>\n",
       "      <th>0</th>\n",
       "      <td>0.0</td>\n",
       "      <td>81.632653</td>\n",
       "      <td>None</td>\n",
       "      <td>None</td>\n",
       "      <td>-0.983092</td>\n",
       "      <td>0.136698</td>\n",
       "      <td>POINT (0.000 81.633)</td>\n",
       "      <td>0.099356</td>\n",
       "    </tr>\n",
       "    <tr>\n",
       "      <th>...</th>\n",
       "      <td>...</td>\n",
       "      <td>...</td>\n",
       "      <td>...</td>\n",
       "      <td>...</td>\n",
       "      <td>...</td>\n",
       "      <td>...</td>\n",
       "      <td>...</td>\n",
       "      <td>...</td>\n",
       "    </tr>\n",
       "    <tr>\n",
       "      <th>0</th>\n",
       "      <td>1000.0</td>\n",
       "      <td>918.367347</td>\n",
       "      <td>None</td>\n",
       "      <td>None</td>\n",
       "      <td>-1.441308</td>\n",
       "      <td>0.330222</td>\n",
       "      <td>POINT (1000.000 918.367)</td>\n",
       "      <td>0.089031</td>\n",
       "    </tr>\n",
       "    <tr>\n",
       "      <th>0</th>\n",
       "      <td>1000.0</td>\n",
       "      <td>938.775510</td>\n",
       "      <td>None</td>\n",
       "      <td>None</td>\n",
       "      <td>-1.599221</td>\n",
       "      <td>0.231901</td>\n",
       "      <td>POINT (1000.000 938.776)</td>\n",
       "      <td>0.084378</td>\n",
       "    </tr>\n",
       "    <tr>\n",
       "      <th>0</th>\n",
       "      <td>1000.0</td>\n",
       "      <td>959.183673</td>\n",
       "      <td>None</td>\n",
       "      <td>None</td>\n",
       "      <td>-1.741151</td>\n",
       "      <td>0.142581</td>\n",
       "      <td>POINT (1000.000 959.184)</td>\n",
       "      <td>0.081084</td>\n",
       "    </tr>\n",
       "    <tr>\n",
       "      <th>0</th>\n",
       "      <td>1000.0</td>\n",
       "      <td>979.591837</td>\n",
       "      <td>None</td>\n",
       "      <td>None</td>\n",
       "      <td>-1.753875</td>\n",
       "      <td>0.093976</td>\n",
       "      <td>POINT (1000.000 979.592)</td>\n",
       "      <td>0.080826</td>\n",
       "    </tr>\n",
       "    <tr>\n",
       "      <th>0</th>\n",
       "      <td>1000.0</td>\n",
       "      <td>1000.000000</td>\n",
       "      <td>None</td>\n",
       "      <td>None</td>\n",
       "      <td>-1.632329</td>\n",
       "      <td>0.206447</td>\n",
       "      <td>POINT (1000.000 1000.000)</td>\n",
       "      <td>0.083539</td>\n",
       "    </tr>\n",
       "  </tbody>\n",
       "</table>\n",
       "<p>2500 rows × 8 columns</p>\n",
       "</div>"
      ],
      "text/plain": [
       "         x            y     z   crs     pnorm  pnorm_variance  \\\n",
       "0      0.0     0.000000  None  None -1.232367        0.380022   \n",
       "0      0.0    20.408163  None  None -1.188025        0.282221   \n",
       "0      0.0    40.816327  None  None -1.090841        0.209471   \n",
       "0      0.0    61.224490  None  None -0.953954        0.161571   \n",
       "0      0.0    81.632653  None  None -0.983092        0.136698   \n",
       "..     ...          ...   ...   ...       ...             ...   \n",
       "0   1000.0   918.367347  None  None -1.441308        0.330222   \n",
       "0   1000.0   938.775510  None  None -1.599221        0.231901   \n",
       "0   1000.0   959.183673  None  None -1.741151        0.142581   \n",
       "0   1000.0   979.591837  None  None -1.753875        0.093976   \n",
       "0   1000.0  1000.000000  None  None -1.632329        0.206447   \n",
       "\n",
       "                     geometry  porosity  \n",
       "0         POINT (0.000 0.000)  0.094355  \n",
       "0        POINT (0.000 20.408)  0.095144  \n",
       "0        POINT (0.000 40.816)  0.097025  \n",
       "0        POINT (0.000 61.224)  0.100031  \n",
       "0        POINT (0.000 81.633)  0.099356  \n",
       "..                        ...       ...  \n",
       "0    POINT (1000.000 918.367)  0.089031  \n",
       "0    POINT (1000.000 938.776)  0.084378  \n",
       "0    POINT (1000.000 959.184)  0.081084  \n",
       "0    POINT (1000.000 979.592)  0.080826  \n",
       "0   POINT (1000.000 1000.000)  0.083539  \n",
       "\n",
       "[2500 rows x 8 columns]"
      ]
     },
     "execution_count": 15,
     "metadata": {},
     "output_type": "execute_result"
    }
   ],
   "source": [
    "xn = np.linspace(0,1000,50)\n",
    "yn = np.linspace(0,1000,50)\n",
    "\n",
    "xx, yy = np.meshgrid(xn, yn)\n",
    "\n",
    "dfun = pd.DataFrame({\"x\":xx.flatten(order='F'),\"y\":yy.flatten(order='F')})\n",
    "cp2 = CloudPoints().from_df(dfun, x='x',y='y')\n",
    "wm = s.ordinary_kriging(dcp2,cp2,v='pnorm')\n",
    "\n",
    "df_un = wm.df()\n",
    "df_un['porosity'] = sc.inverse(df_un['pnorm'])\n",
    "df_un"
   ]
  },
  {
   "cell_type": "code",
   "execution_count": 16,
   "metadata": {},
   "outputs": [
    {
     "name": "stderr",
     "output_type": "stream",
     "text": [
      "/Users/scuervo91/Documents/dev/volumetricspy/volumetricspy/stats/points.py:163: MatplotlibDeprecationWarning: shading='flat' when X and Y have the same dimensions as C is deprecated since 3.3.  Either specify the corners of the quadrilaterals with X and Y, or pass shading='auto', 'nearest' or 'gouraud', or set rcParams['pcolor.shading'].  This will become an error two minor releases later.\n",
      "  d = ax.pcolormesh(xx,yy,df.values, **kwargs)\n"
     ]
    },
    {
     "data": {
      "text/plain": [
       "<AxesSubplot:>"
      ]
     },
     "execution_count": 16,
     "metadata": {},
     "output_type": "execute_result"
    },
    {
     "data": {
      "image/png": "[encoded data removed]",
      "text/plain": [
       "<Figure size 432x288 with 2 Axes>"
      ]
     },
     "metadata": {
      "needs_background": "light"
     },
     "output_type": "display_data"
    }
   ],
   "source": [
    "wm.add_fields_from_df(df_un, ['porosity'])\n",
    "\n"
   ]
  },
  {
   "cell_type": "code",
   "execution_count": 17,
   "metadata": {},
   "outputs": [
    {
     "name": "stderr",
     "output_type": "stream",
     "text": [
      "/Users/scuervo91/Documents/dev/volumetricspy/volumetricspy/stats/points.py:164: MatplotlibDeprecationWarning: Starting from Matplotlib 3.6, colorbar() will steal space from the mappable's axes, rather than from the current axes, to place the colorbar.  To silence this warning, explicitly pass the 'ax' argument to colorbar().\n",
      "  plt.colorbar(d)\n"
     ]
    },
    {
     "data": {
      "text/plain": [
       "<AxesSubplot:xlabel='x', ylabel='y'>"
      ]
     },
     "execution_count": 17,
     "metadata": {},
     "output_type": "execute_result"
    },
    {
     "data": {
      "image/png": "[encoded data removed]",
      "text/plain": [
       "<Figure size 1440x720 with 3 Axes>"
      ]
     },
     "metadata": {
      "needs_background": "light"
     },
     "output_type": "display_data"
    }
   ],
   "source": [
    "fig, ax = plt.subplots(1,2,figsize=(20,10))\n",
    "wm.plot_mesh('porosity',ax=ax[0])\n",
    "dcp2.plot(ax=ax[1], hue='Porosity', palette='viridis')"
   ]
  },
  {
   "cell_type": "code",
   "execution_count": 22,
   "metadata": {},
   "outputs": [
    {
     "data": {
      "text/html": [
       "<div>\n",
       "<style scoped>\n",
       "    .dataframe tbody tr th:only-of-type {\n",
       "        vertical-align: middle;\n",
       "    }\n",
       "\n",
       "    .dataframe tbody tr th {\n",
       "        vertical-align: top;\n",
       "    }\n",
       "\n",
       "    .dataframe thead th {\n",
       "        text-align: right;\n",
       "    }\n",
       "</style>\n",
       "<table border=\"1\" class=\"dataframe\">\n",
       "  <thead>\n",
       "    <tr style=\"text-align: right;\">\n",
       "      <th></th>\n",
       "      <th>x</th>\n",
       "      <th>y</th>\n",
       "      <th>Porosity</th>\n",
       "      <th>Porosity_variance</th>\n",
       "    </tr>\n",
       "  </thead>\n",
       "  <tbody>\n",
       "    <tr>\n",
       "      <th>count</th>\n",
       "      <td>2500.000000</td>\n",
       "      <td>2500.000000</td>\n",
       "      <td>2500.000000</td>\n",
       "      <td>2500.000000</td>\n",
       "    </tr>\n",
       "    <tr>\n",
       "      <th>mean</th>\n",
       "      <td>500.000000</td>\n",
       "      <td>500.000000</td>\n",
       "      <td>0.121241</td>\n",
       "      <td>0.741181</td>\n",
       "    </tr>\n",
       "    <tr>\n",
       "      <th>std</th>\n",
       "      <td>294.566464</td>\n",
       "      <td>294.566464</td>\n",
       "      <td>0.026453</td>\n",
       "      <td>0.381655</td>\n",
       "    </tr>\n",
       "    <tr>\n",
       "      <th>min</th>\n",
       "      <td>0.000000</td>\n",
       "      <td>0.000000</td>\n",
       "      <td>0.061114</td>\n",
       "      <td>0.010923</td>\n",
       "    </tr>\n",
       "    <tr>\n",
       "      <th>25%</th>\n",
       "      <td>244.897959</td>\n",
       "      <td>244.897959</td>\n",
       "      <td>0.102874</td>\n",
       "      <td>0.492030</td>\n",
       "    </tr>\n",
       "    <tr>\n",
       "      <th>50%</th>\n",
       "      <td>500.000000</td>\n",
       "      <td>500.000000</td>\n",
       "      <td>0.117637</td>\n",
       "      <td>0.688321</td>\n",
       "    </tr>\n",
       "    <tr>\n",
       "      <th>75%</th>\n",
       "      <td>755.102041</td>\n",
       "      <td>755.102041</td>\n",
       "      <td>0.133401</td>\n",
       "      <td>0.902873</td>\n",
       "    </tr>\n",
       "    <tr>\n",
       "      <th>max</th>\n",
       "      <td>1000.000000</td>\n",
       "      <td>1000.000000</td>\n",
       "      <td>0.222290</td>\n",
       "      <td>2.890865</td>\n",
       "    </tr>\n",
       "  </tbody>\n",
       "</table>\n",
       "</div>"
      ],
      "text/plain": [
       "                 x            y     Porosity  Porosity_variance\n",
       "count  2500.000000  2500.000000  2500.000000        2500.000000\n",
       "mean    500.000000   500.000000     0.121241           0.741181\n",
       "std     294.566464   294.566464     0.026453           0.381655\n",
       "min       0.000000     0.000000     0.061114           0.010923\n",
       "25%     244.897959   244.897959     0.102874           0.492030\n",
       "50%     500.000000   500.000000     0.117637           0.688321\n",
       "75%     755.102041   755.102041     0.133401           0.902873\n",
       "max    1000.000000  1000.000000     0.222290           2.890865"
      ]
     },
     "execution_count": 22,
     "metadata": {},
     "output_type": "execute_result"
    }
   ],
   "source": [
    "data=wm.df()\n",
    "data.describe()"
   ]
  },
  {
   "cell_type": "code",
   "execution_count": 20,
   "metadata": {},
   "outputs": [
    {
     "data": {
      "text/plain": [
       "<seaborn.axisgrid.FacetGrid at 0x7fd589a69370>"
      ]
     },
     "execution_count": 20,
     "metadata": {},
     "output_type": "execute_result"
    },
    {
     "data": {
      "image/png": "[encoded data removed]",
      "text/plain": [
       "<Figure size 360x360 with 1 Axes>"
      ]
     },
     "metadata": {
      "needs_background": "light"
     },
     "output_type": "display_data"
    }
   ],
   "source": [
    "sns.displot(data=data.reset_index(), x='Porosity', kde=False)"
   ]
  },
  {
   "cell_type": "code",
   "execution_count": 21,
   "metadata": {},
   "outputs": [
    {
     "data": {
      "text/plain": [
       "<seaborn.axisgrid.FacetGrid at 0x7fd589bf1580>"
      ]
     },
     "execution_count": 21,
     "metadata": {},
     "output_type": "execute_result"
    },
    {
     "data": {
      "image/png": "[encoded data removed]",
      "text/plain": [
       "<Figure size 360x360 with 1 Axes>"
      ]
     },
     "metadata": {
      "needs_background": "light"
     },
     "output_type": "display_data"
    }
   ],
   "source": [
    "sns.displot(data=dcp2.df().reset_index(), x='Porosity', kde=False)"
   ]
  },
  {
   "cell_type": "code",
   "execution_count": null,
   "metadata": {},
   "outputs": [],
   "source": []
  }
 ],
 "metadata": {
  "interpreter": {
   "hash": "4fd186ed6b737b57cad5eac0f65cfc44cdfbe03b00597f7cf0d964c404ef24fb"
  },
  "kernelspec": {
   "display_name": "Python 3.8.12 64-bit ('volumetricspy': conda)",
   "language": "python",
   "name": "python3"
  },
  "language_info": {
   "codemirror_mode": {
    "name": "ipython",
    "version": 3
   },
   "file_extension": ".py",
   "mimetype": "text/x-python",
   "name": "python",
   "nbconvert_exporter": "python",
   "pygments_lexer": "ipython3",
   "version": "3.8.12"
  },
  "orig_nbformat": 4
 },
 "nbformat": 4,
 "nbformat_minor": 2
}
